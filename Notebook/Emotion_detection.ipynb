{
  "cells": [
    {
      "cell_type": "code",
      "execution_count": 2,
      "metadata": {
        "colab": {
          "base_uri": "https://localhost:8080/"
        },
        "id": "L3cqJJH07Dld",
        "outputId": "ead3f8f9-4865-4613-84cf-8c17b3a7751e"
      },
      "outputs": [
        {
          "output_type": "stream",
          "name": "stdout",
          "text": [
            "Archive:  archive.zip\n",
            "  inflating: emotions_data/test.txt  \n",
            "  inflating: emotions_data/train.txt  \n",
            "  inflating: emotions_data/val.txt   \n",
            "test.txt  train.txt  val.txt\n"
          ]
        }
      ],
      "source": [
        "!unzip archive.zip -d emotions_data\n",
        "!ls emotions_data"
      ]
    },
    {
      "cell_type": "markdown",
      "source": [
        "# **Load the Data**"
      ],
      "metadata": {
        "id": "ylk1iDXe9MPG"
      }
    },
    {
      "cell_type": "code",
      "execution_count": 3,
      "metadata": {
        "colab": {
          "base_uri": "https://localhost:8080/",
          "height": 206
        },
        "id": "IN42enPl7kz0",
        "outputId": "26974ca2-7714-4ecb-b84f-8880b241d59e"
      },
      "outputs": [
        {
          "output_type": "execute_result",
          "data": {
            "text/plain": [
              "                                                text    label\n",
              "0                            i didnt feel humiliated  sadness\n",
              "1  i can go from feeling so hopeless to so damned...  sadness\n",
              "2   im grabbing a minute to post i feel greedy wrong    anger\n",
              "3  i am ever feeling nostalgic about the fireplac...     love\n",
              "4                               i am feeling grouchy    anger"
            ],
            "text/html": [
              "\n",
              "  <div id=\"df-d19a31f5-2c7a-4bb5-b39f-e67f10c3c4cd\" class=\"colab-df-container\">\n",
              "    <div>\n",
              "<style scoped>\n",
              "    .dataframe tbody tr th:only-of-type {\n",
              "        vertical-align: middle;\n",
              "    }\n",
              "\n",
              "    .dataframe tbody tr th {\n",
              "        vertical-align: top;\n",
              "    }\n",
              "\n",
              "    .dataframe thead th {\n",
              "        text-align: right;\n",
              "    }\n",
              "</style>\n",
              "<table border=\"1\" class=\"dataframe\">\n",
              "  <thead>\n",
              "    <tr style=\"text-align: right;\">\n",
              "      <th></th>\n",
              "      <th>text</th>\n",
              "      <th>label</th>\n",
              "    </tr>\n",
              "  </thead>\n",
              "  <tbody>\n",
              "    <tr>\n",
              "      <th>0</th>\n",
              "      <td>i didnt feel humiliated</td>\n",
              "      <td>sadness</td>\n",
              "    </tr>\n",
              "    <tr>\n",
              "      <th>1</th>\n",
              "      <td>i can go from feeling so hopeless to so damned...</td>\n",
              "      <td>sadness</td>\n",
              "    </tr>\n",
              "    <tr>\n",
              "      <th>2</th>\n",
              "      <td>im grabbing a minute to post i feel greedy wrong</td>\n",
              "      <td>anger</td>\n",
              "    </tr>\n",
              "    <tr>\n",
              "      <th>3</th>\n",
              "      <td>i am ever feeling nostalgic about the fireplac...</td>\n",
              "      <td>love</td>\n",
              "    </tr>\n",
              "    <tr>\n",
              "      <th>4</th>\n",
              "      <td>i am feeling grouchy</td>\n",
              "      <td>anger</td>\n",
              "    </tr>\n",
              "  </tbody>\n",
              "</table>\n",
              "</div>\n",
              "    <div class=\"colab-df-buttons\">\n",
              "\n",
              "  <div class=\"colab-df-container\">\n",
              "    <button class=\"colab-df-convert\" onclick=\"convertToInteractive('df-d19a31f5-2c7a-4bb5-b39f-e67f10c3c4cd')\"\n",
              "            title=\"Convert this dataframe to an interactive table.\"\n",
              "            style=\"display:none;\">\n",
              "\n",
              "  <svg xmlns=\"http://www.w3.org/2000/svg\" height=\"24px\" viewBox=\"0 -960 960 960\">\n",
              "    <path d=\"M120-120v-720h720v720H120Zm60-500h600v-160H180v160Zm220 220h160v-160H400v160Zm0 220h160v-160H400v160ZM180-400h160v-160H180v160Zm440 0h160v-160H620v160ZM180-180h160v-160H180v160Zm440 0h160v-160H620v160Z\"/>\n",
              "  </svg>\n",
              "    </button>\n",
              "\n",
              "  <style>\n",
              "    .colab-df-container {\n",
              "      display:flex;\n",
              "      gap: 12px;\n",
              "    }\n",
              "\n",
              "    .colab-df-convert {\n",
              "      background-color: #E8F0FE;\n",
              "      border: none;\n",
              "      border-radius: 50%;\n",
              "      cursor: pointer;\n",
              "      display: none;\n",
              "      fill: #1967D2;\n",
              "      height: 32px;\n",
              "      padding: 0 0 0 0;\n",
              "      width: 32px;\n",
              "    }\n",
              "\n",
              "    .colab-df-convert:hover {\n",
              "      background-color: #E2EBFA;\n",
              "      box-shadow: 0px 1px 2px rgba(60, 64, 67, 0.3), 0px 1px 3px 1px rgba(60, 64, 67, 0.15);\n",
              "      fill: #174EA6;\n",
              "    }\n",
              "\n",
              "    .colab-df-buttons div {\n",
              "      margin-bottom: 4px;\n",
              "    }\n",
              "\n",
              "    [theme=dark] .colab-df-convert {\n",
              "      background-color: #3B4455;\n",
              "      fill: #D2E3FC;\n",
              "    }\n",
              "\n",
              "    [theme=dark] .colab-df-convert:hover {\n",
              "      background-color: #434B5C;\n",
              "      box-shadow: 0px 1px 3px 1px rgba(0, 0, 0, 0.15);\n",
              "      filter: drop-shadow(0px 1px 2px rgba(0, 0, 0, 0.3));\n",
              "      fill: #FFFFFF;\n",
              "    }\n",
              "  </style>\n",
              "\n",
              "    <script>\n",
              "      const buttonEl =\n",
              "        document.querySelector('#df-d19a31f5-2c7a-4bb5-b39f-e67f10c3c4cd button.colab-df-convert');\n",
              "      buttonEl.style.display =\n",
              "        google.colab.kernel.accessAllowed ? 'block' : 'none';\n",
              "\n",
              "      async function convertToInteractive(key) {\n",
              "        const element = document.querySelector('#df-d19a31f5-2c7a-4bb5-b39f-e67f10c3c4cd');\n",
              "        const dataTable =\n",
              "          await google.colab.kernel.invokeFunction('convertToInteractive',\n",
              "                                                    [key], {});\n",
              "        if (!dataTable) return;\n",
              "\n",
              "        const docLinkHtml = 'Like what you see? Visit the ' +\n",
              "          '<a target=\"_blank\" href=https://colab.research.google.com/notebooks/data_table.ipynb>data table notebook</a>'\n",
              "          + ' to learn more about interactive tables.';\n",
              "        element.innerHTML = '';\n",
              "        dataTable['output_type'] = 'display_data';\n",
              "        await google.colab.output.renderOutput(dataTable, element);\n",
              "        const docLink = document.createElement('div');\n",
              "        docLink.innerHTML = docLinkHtml;\n",
              "        element.appendChild(docLink);\n",
              "      }\n",
              "    </script>\n",
              "  </div>\n",
              "\n",
              "\n",
              "    <div id=\"df-466a58fe-a3ad-4bad-8166-46ea169d3746\">\n",
              "      <button class=\"colab-df-quickchart\" onclick=\"quickchart('df-466a58fe-a3ad-4bad-8166-46ea169d3746')\"\n",
              "                title=\"Suggest charts\"\n",
              "                style=\"display:none;\">\n",
              "\n",
              "<svg xmlns=\"http://www.w3.org/2000/svg\" height=\"24px\"viewBox=\"0 0 24 24\"\n",
              "     width=\"24px\">\n",
              "    <g>\n",
              "        <path d=\"M19 3H5c-1.1 0-2 .9-2 2v14c0 1.1.9 2 2 2h14c1.1 0 2-.9 2-2V5c0-1.1-.9-2-2-2zM9 17H7v-7h2v7zm4 0h-2V7h2v10zm4 0h-2v-4h2v4z\"/>\n",
              "    </g>\n",
              "</svg>\n",
              "      </button>\n",
              "\n",
              "<style>\n",
              "  .colab-df-quickchart {\n",
              "      --bg-color: #E8F0FE;\n",
              "      --fill-color: #1967D2;\n",
              "      --hover-bg-color: #E2EBFA;\n",
              "      --hover-fill-color: #174EA6;\n",
              "      --disabled-fill-color: #AAA;\n",
              "      --disabled-bg-color: #DDD;\n",
              "  }\n",
              "\n",
              "  [theme=dark] .colab-df-quickchart {\n",
              "      --bg-color: #3B4455;\n",
              "      --fill-color: #D2E3FC;\n",
              "      --hover-bg-color: #434B5C;\n",
              "      --hover-fill-color: #FFFFFF;\n",
              "      --disabled-bg-color: #3B4455;\n",
              "      --disabled-fill-color: #666;\n",
              "  }\n",
              "\n",
              "  .colab-df-quickchart {\n",
              "    background-color: var(--bg-color);\n",
              "    border: none;\n",
              "    border-radius: 50%;\n",
              "    cursor: pointer;\n",
              "    display: none;\n",
              "    fill: var(--fill-color);\n",
              "    height: 32px;\n",
              "    padding: 0;\n",
              "    width: 32px;\n",
              "  }\n",
              "\n",
              "  .colab-df-quickchart:hover {\n",
              "    background-color: var(--hover-bg-color);\n",
              "    box-shadow: 0 1px 2px rgba(60, 64, 67, 0.3), 0 1px 3px 1px rgba(60, 64, 67, 0.15);\n",
              "    fill: var(--button-hover-fill-color);\n",
              "  }\n",
              "\n",
              "  .colab-df-quickchart-complete:disabled,\n",
              "  .colab-df-quickchart-complete:disabled:hover {\n",
              "    background-color: var(--disabled-bg-color);\n",
              "    fill: var(--disabled-fill-color);\n",
              "    box-shadow: none;\n",
              "  }\n",
              "\n",
              "  .colab-df-spinner {\n",
              "    border: 2px solid var(--fill-color);\n",
              "    border-color: transparent;\n",
              "    border-bottom-color: var(--fill-color);\n",
              "    animation:\n",
              "      spin 1s steps(1) infinite;\n",
              "  }\n",
              "\n",
              "  @keyframes spin {\n",
              "    0% {\n",
              "      border-color: transparent;\n",
              "      border-bottom-color: var(--fill-color);\n",
              "      border-left-color: var(--fill-color);\n",
              "    }\n",
              "    20% {\n",
              "      border-color: transparent;\n",
              "      border-left-color: var(--fill-color);\n",
              "      border-top-color: var(--fill-color);\n",
              "    }\n",
              "    30% {\n",
              "      border-color: transparent;\n",
              "      border-left-color: var(--fill-color);\n",
              "      border-top-color: var(--fill-color);\n",
              "      border-right-color: var(--fill-color);\n",
              "    }\n",
              "    40% {\n",
              "      border-color: transparent;\n",
              "      border-right-color: var(--fill-color);\n",
              "      border-top-color: var(--fill-color);\n",
              "    }\n",
              "    60% {\n",
              "      border-color: transparent;\n",
              "      border-right-color: var(--fill-color);\n",
              "    }\n",
              "    80% {\n",
              "      border-color: transparent;\n",
              "      border-right-color: var(--fill-color);\n",
              "      border-bottom-color: var(--fill-color);\n",
              "    }\n",
              "    90% {\n",
              "      border-color: transparent;\n",
              "      border-bottom-color: var(--fill-color);\n",
              "    }\n",
              "  }\n",
              "</style>\n",
              "\n",
              "      <script>\n",
              "        async function quickchart(key) {\n",
              "          const quickchartButtonEl =\n",
              "            document.querySelector('#' + key + ' button');\n",
              "          quickchartButtonEl.disabled = true;  // To prevent multiple clicks.\n",
              "          quickchartButtonEl.classList.add('colab-df-spinner');\n",
              "          try {\n",
              "            const charts = await google.colab.kernel.invokeFunction(\n",
              "                'suggestCharts', [key], {});\n",
              "          } catch (error) {\n",
              "            console.error('Error during call to suggestCharts:', error);\n",
              "          }\n",
              "          quickchartButtonEl.classList.remove('colab-df-spinner');\n",
              "          quickchartButtonEl.classList.add('colab-df-quickchart-complete');\n",
              "        }\n",
              "        (() => {\n",
              "          let quickchartButtonEl =\n",
              "            document.querySelector('#df-466a58fe-a3ad-4bad-8166-46ea169d3746 button');\n",
              "          quickchartButtonEl.style.display =\n",
              "            google.colab.kernel.accessAllowed ? 'block' : 'none';\n",
              "        })();\n",
              "      </script>\n",
              "    </div>\n",
              "\n",
              "    </div>\n",
              "  </div>\n"
            ],
            "application/vnd.google.colaboratory.intrinsic+json": {
              "type": "dataframe",
              "variable_name": "df_train",
              "summary": "{\n  \"name\": \"df_train\",\n  \"rows\": 16000,\n  \"fields\": [\n    {\n      \"column\": \"text\",\n      \"properties\": {\n        \"dtype\": \"string\",\n        \"num_unique_values\": 15969,\n        \"samples\": [\n          \"i feel rather imbicilic or at least complacent\",\n          \"i was in the bathroom i had sat down to pee it was to make me feel submissive again per instructions\",\n          \"i am thrilled with the way my skin and hair feel if you are like me you are skeptical\"\n        ],\n        \"semantic_type\": \"\",\n        \"description\": \"\"\n      }\n    },\n    {\n      \"column\": \"label\",\n      \"properties\": {\n        \"dtype\": \"category\",\n        \"num_unique_values\": 6,\n        \"samples\": [\n          \"sadness\",\n          \"anger\",\n          \"joy\"\n        ],\n        \"semantic_type\": \"\",\n        \"description\": \"\"\n      }\n    }\n  ]\n}"
            }
          },
          "metadata": {},
          "execution_count": 3
        }
      ],
      "source": [
        "import pandas as pd\n",
        "\n",
        "# Load train data\n",
        "train_path = 'emotions_data/train.txt'\n",
        "df_train = pd.read_csv(train_path, sep=';', header=None, names=['text', 'label'])\n",
        "\n",
        "# Show first few rows\n",
        "df_train.head()"
      ]
    },
    {
      "cell_type": "code",
      "execution_count": 4,
      "metadata": {
        "colab": {
          "base_uri": "https://localhost:8080/",
          "height": 147
        },
        "id": "oAjOIh-A8HWU",
        "outputId": "1a40ce61-2697-4ada-908f-30900c6b8c62"
      },
      "outputs": [
        {
          "output_type": "execute_result",
          "data": {
            "text/plain": [
              "text     0\n",
              "label    0\n",
              "dtype: int64"
            ],
            "text/html": [
              "<div>\n",
              "<style scoped>\n",
              "    .dataframe tbody tr th:only-of-type {\n",
              "        vertical-align: middle;\n",
              "    }\n",
              "\n",
              "    .dataframe tbody tr th {\n",
              "        vertical-align: top;\n",
              "    }\n",
              "\n",
              "    .dataframe thead th {\n",
              "        text-align: right;\n",
              "    }\n",
              "</style>\n",
              "<table border=\"1\" class=\"dataframe\">\n",
              "  <thead>\n",
              "    <tr style=\"text-align: right;\">\n",
              "      <th></th>\n",
              "      <th>0</th>\n",
              "    </tr>\n",
              "  </thead>\n",
              "  <tbody>\n",
              "    <tr>\n",
              "      <th>text</th>\n",
              "      <td>0</td>\n",
              "    </tr>\n",
              "    <tr>\n",
              "      <th>label</th>\n",
              "      <td>0</td>\n",
              "    </tr>\n",
              "  </tbody>\n",
              "</table>\n",
              "</div><br><label><b>dtype:</b> int64</label>"
            ]
          },
          "metadata": {},
          "execution_count": 4
        }
      ],
      "source": [
        "df_train.isnull().sum()"
      ]
    },
    {
      "cell_type": "code",
      "execution_count": 5,
      "metadata": {
        "colab": {
          "base_uri": "https://localhost:8080/"
        },
        "id": "_amN0k968Lb5",
        "outputId": "267561c1-76dc-4e97-e983-05db665cd51f"
      },
      "outputs": [
        {
          "output_type": "execute_result",
          "data": {
            "text/plain": [
              "(16000, 2)"
            ]
          },
          "metadata": {},
          "execution_count": 5
        }
      ],
      "source": [
        "df_train.shape"
      ]
    },
    {
      "cell_type": "markdown",
      "source": [
        "# **Visualize Label Distribution**"
      ],
      "metadata": {
        "id": "bWoVVE879iTi"
      }
    },
    {
      "cell_type": "code",
      "execution_count": 6,
      "metadata": {
        "colab": {
          "base_uri": "https://localhost:8080/",
          "height": 600
        },
        "id": "lP5JjgXJ8Zb7",
        "outputId": "4c224996-ba29-40f9-ce7e-8550471e679b"
      },
      "outputs": [
        {
          "output_type": "display_data",
          "data": {
            "text/plain": [
              "<Figure size 1000x600 with 1 Axes>"
            ],
            "image/png": "[encoded data removed]"
          },
          "metadata": {}
        }
      ],
      "source": [
        "import matplotlib.pyplot as plt\n",
        "\n",
        "label_counts = df_train['label'].value_counts()\n",
        "\n",
        "plt.figure(figsize=(10,6))\n",
        "label_counts.plot(kind='bar', color='skyblue')\n",
        "plt.title('Emotion Label Distribution in Training Set')\n",
        "plt.xlabel('Emotion')\n",
        "plt.ylabel('Number of Samples')\n",
        "plt.xticks(rotation=45)\n",
        "plt.grid(axis='y', linestyle='--', alpha=0.7)\n",
        "plt.show()"
      ]
    },
    {
      "cell_type": "markdown",
      "source": [
        "# **Preprocess the Data (Label Encoding + Train/Test/Val Sets)**"
      ],
      "metadata": {
        "id": "zsrtnQPy90cn"
      }
    },
    {
      "cell_type": "code",
      "execution_count": 7,
      "metadata": {
        "colab": {
          "base_uri": "https://localhost:8080/"
        },
        "id": "3Eo7SaJ98p_6",
        "outputId": "397a9378-6979-491d-e6c3-532aea3ec0d2"
      },
      "outputs": [
        {
          "output_type": "stream",
          "name": "stdout",
          "text": [
            "Label Mapping: {'anger': np.int64(0), 'fear': np.int64(1), 'joy': np.int64(2), 'love': np.int64(3), 'sadness': np.int64(4), 'surprise': np.int64(5)}\n"
          ]
        }
      ],
      "source": [
        "from sklearn.preprocessing import LabelEncoder\n",
        "\n",
        "# Load other splits\n",
        "df_val = pd.read_csv('emotions_data/val.txt', sep=';', header=None, names=['text', 'label'])\n",
        "df_test = pd.read_csv('emotions_data/test.txt', sep=';', header=None, names=['text', 'label'])\n",
        "\n",
        "# Combine all to create consistent encoding\n",
        "all_labels = pd.concat([df_train['label'], df_val['label'], df_test['label']])\n",
        "\n",
        "label_encoder = LabelEncoder()\n",
        "label_encoder.fit(all_labels)\n",
        "\n",
        "# Encode each set\n",
        "df_train['label_encoded'] = label_encoder.transform(df_train['label'])\n",
        "df_val['label_encoded'] = label_encoder.transform(df_val['label'])\n",
        "df_test['label_encoded'] = label_encoder.transform(df_test['label'])\n",
        "\n",
        "# Check mapping\n",
        "label_mapping = dict(zip(label_encoder.classes_, label_encoder.transform(label_encoder.classes_)))\n",
        "print(\"Label Mapping:\", label_mapping)"
      ]
    },
    {
      "cell_type": "code",
      "execution_count": 8,
      "metadata": {
        "colab": {
          "base_uri": "https://localhost:8080/"
        },
        "id": "ZNBTZCWe9yC0",
        "outputId": "95b099d3-5405-4b22-8a2b-72185cbabed6"
      },
      "outputs": [
        {
          "output_type": "execute_result",
          "data": {
            "text/plain": [
              "(2000, 3)"
            ]
          },
          "metadata": {},
          "execution_count": 8
        }
      ],
      "source": [
        "df_val.shape"
      ]
    },
    {
      "cell_type": "code",
      "execution_count": 9,
      "metadata": {
        "colab": {
          "base_uri": "https://localhost:8080/"
        },
        "id": "iHn2GGj898wF",
        "outputId": "49e3f29a-c366-4248-b0db-7d43900428c8"
      },
      "outputs": [
        {
          "output_type": "execute_result",
          "data": {
            "text/plain": [
              "(2000, 3)"
            ]
          },
          "metadata": {},
          "execution_count": 9
        }
      ],
      "source": [
        "df_test.shape"
      ]
    },
    {
      "cell_type": "markdown",
      "source": [
        "# **Building a baseline model - Logistic Regression**"
      ],
      "metadata": {
        "id": "6SgHyc339_eo"
      }
    },
    {
      "cell_type": "code",
      "execution_count": 10,
      "metadata": {
        "colab": {
          "base_uri": "https://localhost:8080/"
        },
        "id": "qlARwQZK9_9K",
        "outputId": "ecc78733-0523-48b3-ca96-392463745df1"
      },
      "outputs": [
        {
          "output_type": "stream",
          "name": "stdout",
          "text": [
            "Validation Accuracy: 0.863\n",
            "\n",
            "Classification Report:\n",
            "\n",
            "              precision    recall  f1-score   support\n",
            "\n",
            "       anger       0.91      0.82      0.87       275\n",
            "        fear       0.85      0.75      0.80       212\n",
            "         joy       0.85      0.94      0.89       704\n",
            "        love       0.89      0.63      0.74       178\n",
            "     sadness       0.86      0.94      0.90       550\n",
            "    surprise       0.84      0.58      0.69        81\n",
            "\n",
            "    accuracy                           0.86      2000\n",
            "   macro avg       0.87      0.78      0.81      2000\n",
            "weighted avg       0.86      0.86      0.86      2000\n",
            "\n"
          ]
        }
      ],
      "source": [
        "from sklearn.feature_extraction.text import TfidfVectorizer\n",
        "from sklearn.linear_model import LogisticRegression\n",
        "from sklearn.pipeline import Pipeline\n",
        "from sklearn.metrics import classification_report, accuracy_score\n",
        "\n",
        "# Define pipeline\n",
        "pipeline = Pipeline([\n",
        "    ('tfidf', TfidfVectorizer(max_features=5000)),\n",
        "    ('clf', LogisticRegression(max_iter=1000))\n",
        "])\n",
        "\n",
        "# Train\n",
        "pipeline.fit(df_train['text'], df_train['label_encoded'])\n",
        "\n",
        "# Validate\n",
        "val_preds = pipeline.predict(df_val['text'])\n",
        "\n",
        "# Evaluation\n",
        "print(\"Validation Accuracy:\", accuracy_score(df_val['label_encoded'], val_preds))\n",
        "print(\"\\nClassification Report:\\n\")\n",
        "print(classification_report(df_val['label_encoded'], val_preds, target_names=label_encoder.classes_))"
      ]
    },
    {
      "cell_type": "code",
      "execution_count": 11,
      "metadata": {
        "colab": {
          "base_uri": "https://localhost:8080/"
        },
        "id": "jW8NkUXv-bRu",
        "outputId": "33f0c21d-70d5-48bc-ecb2-e63d36987f0e"
      },
      "outputs": [
        {
          "output_type": "stream",
          "name": "stdout",
          "text": [
            "Validation Accuracy (with balanced class weights): 0.889\n",
            "\n",
            "Classification Report:\n",
            "\n",
            "              precision    recall  f1-score   support\n",
            "\n",
            "       anger       0.88      0.92      0.90       275\n",
            "        fear       0.82      0.84      0.83       212\n",
            "         joy       0.95      0.87      0.91       704\n",
            "        love       0.76      0.95      0.84       178\n",
            "     sadness       0.94      0.89      0.91       550\n",
            "    surprise       0.73      0.91      0.81        81\n",
            "\n",
            "    accuracy                           0.89      2000\n",
            "   macro avg       0.84      0.90      0.87      2000\n",
            "weighted avg       0.90      0.89      0.89      2000\n",
            "\n"
          ]
        }
      ],
      "source": [
        "# Define pipeline with class_weight='balanced'\n",
        "pipeline_balanced = Pipeline([\n",
        "    ('tfidf', TfidfVectorizer(max_features=5000)),\n",
        "    ('clf', LogisticRegression(max_iter=1000, class_weight='balanced'))\n",
        "])\n",
        "\n",
        "# Train with balanced weights\n",
        "pipeline_balanced.fit(df_train['text'], df_train['label_encoded'])\n",
        "\n",
        "# Validate\n",
        "val_preds_balanced = pipeline_balanced.predict(df_val['text'])\n",
        "\n",
        "# Evaluation\n",
        "print(\"Validation Accuracy (with balanced class weights):\", accuracy_score(df_val['label_encoded'], val_preds_balanced))\n",
        "print(\"\\nClassification Report:\\n\")\n",
        "print(classification_report(df_val['label_encoded'], val_preds_balanced, target_names=label_encoder.classes_))"
      ]
    },
    {
      "cell_type": "markdown",
      "source": [
        "# **Hyperparamter Tuning**"
      ],
      "metadata": {
        "id": "PPWdthOQ-xeF"
      }
    },
    {
      "cell_type": "code",
      "execution_count": 12,
      "metadata": {
        "colab": {
          "base_uri": "https://localhost:8080/"
        },
        "id": "cMpk9GB9_ptt",
        "outputId": "b4d5e250-640a-4d2b-e836-6fa2593dc76c"
      },
      "outputs": [
        {
          "output_type": "stream",
          "name": "stdout",
          "text": [
            "Fitting 5 folds for each of 10 candidates, totalling 50 fits\n"
          ]
        },
        {
          "output_type": "stream",
          "name": "stderr",
          "text": [
            "/usr/local/lib/python3.11/dist-packages/sklearn/model_selection/_validation.py:528: FitFailedWarning: \n",
            "25 fits failed out of a total of 50.\n",
            "The score on these train-test partitions for these parameters will be set to nan.\n",
            "If these failures are not expected, you can try to debug them by setting error_score='raise'.\n",
            "\n",
            "Below are more details about the failures:\n",
            "--------------------------------------------------------------------------------\n",
            "25 fits failed with the following error:\n",
            "Traceback (most recent call last):\n",
            "  File \"/usr/local/lib/python3.11/dist-packages/sklearn/model_selection/_validation.py\", line 866, in _fit_and_score\n",
            "    estimator.fit(X_train, y_train, **fit_params)\n",
            "  File \"/usr/local/lib/python3.11/dist-packages/sklearn/base.py\", line 1389, in wrapper\n",
            "    return fit_method(estimator, *args, **kwargs)\n",
            "           ^^^^^^^^^^^^^^^^^^^^^^^^^^^^^^^^^^^^^^\n",
            "  File \"/usr/local/lib/python3.11/dist-packages/sklearn/pipeline.py\", line 662, in fit\n",
            "    self._final_estimator.fit(Xt, y, **last_step_params[\"fit\"])\n",
            "  File \"/usr/local/lib/python3.11/dist-packages/sklearn/base.py\", line 1389, in wrapper\n",
            "    return fit_method(estimator, *args, **kwargs)\n",
            "           ^^^^^^^^^^^^^^^^^^^^^^^^^^^^^^^^^^^^^^\n",
            "  File \"/usr/local/lib/python3.11/dist-packages/sklearn/linear_model/_logistic.py\", line 1193, in fit\n",
            "    solver = _check_solver(self.solver, self.penalty, self.dual)\n",
            "             ^^^^^^^^^^^^^^^^^^^^^^^^^^^^^^^^^^^^^^^^^^^^^^^^^^^\n",
            "  File \"/usr/local/lib/python3.11/dist-packages/sklearn/linear_model/_logistic.py\", line 63, in _check_solver\n",
            "    raise ValueError(\n",
            "ValueError: Solver lbfgs supports only 'l2' or None penalties, got l1 penalty.\n",
            "\n",
            "  warnings.warn(some_fits_failed_message, FitFailedWarning)\n",
            "/usr/local/lib/python3.11/dist-packages/sklearn/model_selection/_search.py:1108: UserWarning: One or more of the test scores are non-finite: [      nan 0.6565          nan 0.784375        nan 0.8738125       nan\n",
            " 0.8819375       nan 0.871375 ]\n",
            "  warnings.warn(\n"
          ]
        },
        {
          "output_type": "stream",
          "name": "stdout",
          "text": [
            "Best parameters found:  {'clf__C': 10, 'clf__penalty': 'l2'}\n",
            "Validation Accuracy (Best Model): 0.8925\n",
            "\n",
            "Classification Report:\n",
            "\n",
            "              precision    recall  f1-score   support\n",
            "\n",
            "       anger       0.88      0.89      0.89       275\n",
            "        fear       0.85      0.84      0.85       212\n",
            "         joy       0.94      0.89      0.92       704\n",
            "        love       0.77      0.91      0.84       178\n",
            "     sadness       0.92      0.91      0.92       550\n",
            "    surprise       0.76      0.85      0.80        81\n",
            "\n",
            "    accuracy                           0.89      2000\n",
            "   macro avg       0.85      0.88      0.87      2000\n",
            "weighted avg       0.90      0.89      0.89      2000\n",
            "\n"
          ]
        }
      ],
      "source": [
        "from sklearn.model_selection import GridSearchCV\n",
        "\n",
        "# Define parameter grid\n",
        "param_grid = {\n",
        "    'clf__C': [0.01, 0.1, 1, 10, 100],  # Regularization strength\n",
        "    'clf__penalty': ['l1', 'l2']  # Regularization type\n",
        "}\n",
        "\n",
        "# Perform GridSearchCV\n",
        "grid_search = GridSearchCV(pipeline_balanced, param_grid, cv=5, n_jobs=-1, verbose=1)\n",
        "grid_search.fit(df_train['text'], df_train['label_encoded'])\n",
        "\n",
        "# Best parameters\n",
        "print(\"Best parameters found: \", grid_search.best_params_)\n",
        "\n",
        "# Best model\n",
        "best_model = grid_search.best_estimator_\n",
        "\n",
        "# Evaluate the best model\n",
        "val_preds_best = best_model.predict(df_val['text'])\n",
        "print(\"Validation Accuracy (Best Model):\", accuracy_score(df_val['label_encoded'], val_preds_best))\n",
        "print(\"\\nClassification Report:\\n\")\n",
        "print(classification_report(df_val['label_encoded'], val_preds_best, target_names=label_encoder.classes_))"
      ]
    },
    {
      "cell_type": "code",
      "execution_count": 13,
      "metadata": {
        "colab": {
          "base_uri": "https://localhost:8080/"
        },
        "id": "STMXyoVvSBMJ",
        "outputId": "961017b1-1532-40ae-e660-052638a27049"
      },
      "outputs": [
        {
          "output_type": "stream",
          "name": "stdout",
          "text": [
            "Requirement already satisfied: transformers in /usr/local/lib/python3.11/dist-packages (4.51.3)\n",
            "Requirement already satisfied: filelock in /usr/local/lib/python3.11/dist-packages (from transformers) (3.18.0)\n",
            "Requirement already satisfied: huggingface-hub<1.0,>=0.30.0 in /usr/local/lib/python3.11/dist-packages (from transformers) (0.30.2)\n",
            "Requirement already satisfied: numpy>=1.17 in /usr/local/lib/python3.11/dist-packages (from transformers) (2.0.2)\n",
            "Requirement already satisfied: packaging>=20.0 in /usr/local/lib/python3.11/dist-packages (from transformers) (24.2)\n",
            "Requirement already satisfied: pyyaml>=5.1 in /usr/local/lib/python3.11/dist-packages (from transformers) (6.0.2)\n",
            "Requirement already satisfied: regex!=2019.12.17 in /usr/local/lib/python3.11/dist-packages (from transformers) (2024.11.6)\n",
            "Requirement already satisfied: requests in /usr/local/lib/python3.11/dist-packages (from transformers) (2.32.3)\n",
            "Requirement already satisfied: tokenizers<0.22,>=0.21 in /usr/local/lib/python3.11/dist-packages (from transformers) (0.21.1)\n",
            "Requirement already satisfied: safetensors>=0.4.3 in /usr/local/lib/python3.11/dist-packages (from transformers) (0.5.3)\n",
            "Requirement already satisfied: tqdm>=4.27 in /usr/local/lib/python3.11/dist-packages (from transformers) (4.67.1)\n",
            "Requirement already satisfied: fsspec>=2023.5.0 in /usr/local/lib/python3.11/dist-packages (from huggingface-hub<1.0,>=0.30.0->transformers) (2025.3.2)\n",
            "Requirement already satisfied: typing-extensions>=3.7.4.3 in /usr/local/lib/python3.11/dist-packages (from huggingface-hub<1.0,>=0.30.0->transformers) (4.13.2)\n",
            "Requirement already satisfied: charset-normalizer<4,>=2 in /usr/local/lib/python3.11/dist-packages (from requests->transformers) (3.4.1)\n",
            "Requirement already satisfied: idna<4,>=2.5 in /usr/local/lib/python3.11/dist-packages (from requests->transformers) (3.10)\n",
            "Requirement already satisfied: urllib3<3,>=1.21.1 in /usr/local/lib/python3.11/dist-packages (from requests->transformers) (2.4.0)\n",
            "Requirement already satisfied: certifi>=2017.4.17 in /usr/local/lib/python3.11/dist-packages (from requests->transformers) (2025.4.26)\n"
          ]
        }
      ],
      "source": [
        "!pip install transformers --upgrade"
      ]
    },
    {
      "cell_type": "markdown",
      "source": [
        "# **Introducing BERT for Emotion Detection**"
      ],
      "metadata": {
        "id": "l5EXynIb_BEk"
      }
    },
    {
      "cell_type": "code",
      "execution_count": 14,
      "metadata": {
        "colab": {
          "base_uri": "https://localhost:8080/"
        },
        "id": "BW39aF0YEEKv",
        "outputId": "cfdfc928-2588-415f-f4a1-63759e41f53a"
      },
      "outputs": [
        {
          "output_type": "stream",
          "name": "stdout",
          "text": [
            "4.51.3\n"
          ]
        }
      ],
      "source": [
        "import transformers\n",
        "print(transformers.__version__)"
      ]
    },
    {
      "cell_type": "code",
      "execution_count": 15,
      "metadata": {
        "colab": {
          "base_uri": "https://localhost:8080/"
        },
        "id": "eWbcztVRHNOU",
        "outputId": "3a560761-4c06-4a63-fef5-0cda3bf270d7"
      },
      "outputs": [
        {
          "output_type": "stream",
          "name": "stdout",
          "text": [
            "<class 'transformers.training_args.TrainingArguments'>\n"
          ]
        }
      ],
      "source": [
        "from transformers import TrainingArguments\n",
        "print(TrainingArguments)"
      ]
    },
    {
      "cell_type": "code",
      "execution_count": 16,
      "metadata": {
        "id": "eaKoz3YLC0QG",
        "colab": {
          "base_uri": "https://localhost:8080/",
          "height": 269,
          "referenced_widgets": [
            "a21e78965e5a4df9818caed9b78a767c",
            "186eb0ef52bb41c79d5dcfc7c11d8d3a",
            "682b6e3b0f1e4482b43b42b6a6b60e0c",
            "4f1f7b0bc91045b6930f2b4a83d06c49",
            "5d72645a791746c8812965b15c632afc",
            "3c40faf912a54c309c53bdcae42d8d28",
            "16d8c54f39d64689a7f6e20f1f72a4cf",
            "491f273426f746809ea77ef9f10e3547",
            "f55435271ff84916ad0cd031b27bf2a3",
            "9da0271cb54d43799942bed601d9cfb7",
            "cf3a8fb86f3340b4a7d780467efd402a",
            "957a1f5d322445949943990ce5cdc012",
            "f9bfa458b3be429c8344dec2de1ff3aa",
            "51cc1e5f7b3643089115df5b956499e9",
            "c1db32bffade49ea80b7a0fd561fae3a",
            "1dba3927257347319a03d0e6785be405",
            "f727ef9d68484e0ba4369129f3cf0c54",
            "6f01d3754e0545109c3dd2e9647f6456",
            "363011bfab0c4410bf913563bc0015d9",
            "5f7145b8fd0044b4899dc7992bd40b54",
            "04f2f3a263374786bf4af1139dc7afd7",
            "92f03bfdcb184ab680ce1eb5fc99f88d",
            "5c99d48626fa4b4ba8aa964a222cc3c4",
            "5c08653b370f4e1d8787cc61048bdb82",
            "59314f643c084741b169af6b32399f60",
            "0060ad49224e4d8eb0c02dd0bbcf66bc",
            "e6660d708b364201bc755c00e73c32c0",
            "2c18e6a7ff6144d8b9ce2ea251fa0af0",
            "bb5bb92caa9f4cf4b8a3f5de8b149820",
            "bd26017a49b845dc9ac944ce810a452e",
            "83b7d255734043d187ef1c2c4b0d2286",
            "ce8b5baac4ea461ab74c701fcd82a203",
            "2a7fd91905dd4069a337822dfd4f056f",
            "30e2e3326c594faaa9ee2b2faad277dc",
            "0aac535ca5cd4e398c58118678a6223f",
            "bc50ebe9fb504ebd9464b69886a72821",
            "85bf9141f0144e81ae27c1c6afb57f10",
            "0c07a62798e148b8b8397fad27e333be",
            "b9643468a4884174b33a0e4f59e31e7e",
            "942830752a344e6ca0faef1f349314c8",
            "10b6716e78184c85a591d7d9c72e7c3e",
            "a6074c07c7104a6fa9ba9f3b6b626f07",
            "fd3b7a631dfd48f59d5d1fc8c2cb2e1b",
            "87aa273ca4e34c7190db6592fa72bd74"
          ]
        },
        "outputId": "5f076c44-e226-4d5b-8fe2-644e70e4072d"
      },
      "outputs": [
        {
          "output_type": "stream",
          "name": "stderr",
          "text": [
            "/usr/local/lib/python3.11/dist-packages/huggingface_hub/utils/_auth.py:94: UserWarning: \n",
            "The secret `HF_TOKEN` does not exist in your Colab secrets.\n",
            "To authenticate with the Hugging Face Hub, create a token in your settings tab (https://huggingface.co/settings/tokens), set it as secret in your Google Colab and restart your session.\n",
            "You will be able to reuse this secret in all of your notebooks.\n",
            "Please note that authentication is recommended but still optional to access public models or datasets.\n",
            "  warnings.warn(\n"
          ]
        },
        {
          "output_type": "display_data",
          "data": {
            "text/plain": [
              "tokenizer_config.json:   0%|          | 0.00/48.0 [00:00<?, ?B/s]"
            ],
            "application/vnd.jupyter.widget-view+json": {
              "version_major": 2,
              "version_minor": 0,
              "model_id": "a21e78965e5a4df9818caed9b78a767c"
            }
          },
          "metadata": {}
        },
        {
          "output_type": "display_data",
          "data": {
            "text/plain": [
              "vocab.txt:   0%|          | 0.00/232k [00:00<?, ?B/s]"
            ],
            "application/vnd.jupyter.widget-view+json": {
              "version_major": 2,
              "version_minor": 0,
              "model_id": "957a1f5d322445949943990ce5cdc012"
            }
          },
          "metadata": {}
        },
        {
          "output_type": "display_data",
          "data": {
            "text/plain": [
              "tokenizer.json:   0%|          | 0.00/466k [00:00<?, ?B/s]"
            ],
            "application/vnd.jupyter.widget-view+json": {
              "version_major": 2,
              "version_minor": 0,
              "model_id": "5c99d48626fa4b4ba8aa964a222cc3c4"
            }
          },
          "metadata": {}
        },
        {
          "output_type": "display_data",
          "data": {
            "text/plain": [
              "config.json:   0%|          | 0.00/570 [00:00<?, ?B/s]"
            ],
            "application/vnd.jupyter.widget-view+json": {
              "version_major": 2,
              "version_minor": 0,
              "model_id": "30e2e3326c594faaa9ee2b2faad277dc"
            }
          },
          "metadata": {}
        }
      ],
      "source": [
        "from transformers import BertTokenizer\n",
        "\n",
        "# Initialize the BERT tokenizer\n",
        "tokenizer = BertTokenizer.from_pretrained('bert-base-uncased')\n",
        "\n",
        "# Tokenize the texts\n",
        "def tokenize_function(text):\n",
        "    return tokenizer(text, padding='max_length', truncation=True, max_length=256)\n",
        "\n",
        "train_encodings = df_train['text'].apply(tokenize_function)\n",
        "val_encodings = df_val['text'].apply(tokenize_function)\n",
        "test_encodings = df_test['text'].apply(tokenize_function)"
      ]
    },
    {
      "cell_type": "code",
      "execution_count": 17,
      "metadata": {
        "id": "cQ3RBChiSiQw"
      },
      "outputs": [],
      "source": [
        "from torch.utils.data import Dataset\n",
        "import torch\n",
        "\n",
        "class EmotionDataset(Dataset):\n",
        "    def __init__(self, encodings, labels):\n",
        "        self.encodings = encodings\n",
        "        self.labels = labels\n",
        "\n",
        "    def __getitem__(self, idx):\n",
        "        item = {key: torch.tensor(val[idx]) for key, val in self.encodings.items()}\n",
        "        # Convert label to numerical value using label_encoder if it's a string\n",
        "        label = self.labels[idx]\n",
        "        if isinstance(label, str):  # Check if the label is a string\n",
        "            label = label_encoder.transform([label])[0]  # Encode the label using your label_encoder\n",
        "\n",
        "        item[\"labels\"] = torch.tensor(label)\n",
        "        return item\n",
        "\n",
        "    def __len__(self):\n",
        "        return len(self.labels)"
      ]
    },
    {
      "cell_type": "code",
      "execution_count": 18,
      "metadata": {
        "id": "hnBxXU6ng3TF"
      },
      "outputs": [],
      "source": [
        "train_encodings = tokenizer(df_train['text'].tolist(), padding=True, truncation=True, max_length=256)\n",
        "val_encodings = tokenizer(df_val['text'].tolist(), padding=True, truncation=True, max_length=256)"
      ]
    },
    {
      "cell_type": "code",
      "execution_count": 19,
      "metadata": {
        "id": "teBRqhH1U2lt"
      },
      "outputs": [],
      "source": [
        "train_labels = df_train['label'].tolist()\n",
        "val_labels = df_val['label'].tolist()"
      ]
    },
    {
      "cell_type": "code",
      "execution_count": 20,
      "metadata": {
        "id": "EhfJpPD_Sm5W"
      },
      "outputs": [],
      "source": [
        "train_dataset = EmotionDataset(train_encodings, train_labels)\n",
        "val_dataset = EmotionDataset(val_encodings, val_labels)"
      ]
    },
    {
      "cell_type": "code",
      "execution_count": 21,
      "metadata": {
        "colab": {
          "base_uri": "https://localhost:8080/",
          "height": 138,
          "referenced_widgets": [
            "bc39b07290514edea8cebe481099fab2",
            "6e41385481b64746b9c59506b55c7f23",
            "2c69257a1e314db9bebc2de49101c88f",
            "ef105479c55b49729bc609fdf71a5b3e",
            "70184281440548dabc22ea9ea46679ac",
            "75c9c9cd85804a5793a0e229c536ec44",
            "949dc78faaf84b178e93924502aa7d72",
            "2df88763d75c45598937bb982fb92779",
            "fa458f57226b475c8dbad639552aa1cd",
            "f16ea9795d3143b1bfe01de4d361232e",
            "755806ac4a3241738a736fb1cbfe38d6"
          ]
        },
        "id": "VODEboQhC3x9",
        "outputId": "140b8990-1063-4c86-c615-41ebd227bb0f"
      },
      "outputs": [
        {
          "output_type": "stream",
          "name": "stderr",
          "text": [
            "Xet Storage is enabled for this repo, but the 'hf_xet' package is not installed. Falling back to regular HTTP download. For better performance, install the package with: `pip install huggingface_hub[hf_xet]` or `pip install hf_xet`\n",
            "WARNING:huggingface_hub.file_download:Xet Storage is enabled for this repo, but the 'hf_xet' package is not installed. Falling back to regular HTTP download. For better performance, install the package with: `pip install huggingface_hub[hf_xet]` or `pip install hf_xet`\n"
          ]
        },
        {
          "output_type": "display_data",
          "data": {
            "text/plain": [
              "model.safetensors:   0%|          | 0.00/440M [00:00<?, ?B/s]"
            ],
            "application/vnd.jupyter.widget-view+json": {
              "version_major": 2,
              "version_minor": 0,
              "model_id": "bc39b07290514edea8cebe481099fab2"
            }
          },
          "metadata": {}
        },
        {
          "output_type": "stream",
          "name": "stderr",
          "text": [
            "Some weights of BertForSequenceClassification were not initialized from the model checkpoint at bert-base-uncased and are newly initialized: ['classifier.bias', 'classifier.weight']\n",
            "You should probably TRAIN this model on a down-stream task to be able to use it for predictions and inference.\n"
          ]
        }
      ],
      "source": [
        "from transformers import BertForSequenceClassification\n",
        "\n",
        "# Load the BERT model for text classification\n",
        "model = BertForSequenceClassification.from_pretrained('bert-base-uncased', num_labels=len(label_encoder.classes_))"
      ]
    },
    {
      "cell_type": "code",
      "execution_count": 22,
      "metadata": {
        "id": "kawIHEgOTaG8"
      },
      "outputs": [],
      "source": [
        "import os\n",
        "os.environ[\"WANDB_DISABLED\"] = \"true\""
      ]
    },
    {
      "cell_type": "code",
      "execution_count": 23,
      "metadata": {
        "colab": {
          "base_uri": "https://localhost:8080/"
        },
        "id": "mulq2Ra3DCCB",
        "outputId": "a79d32cf-538f-4408-b244-d37600037bda"
      },
      "outputs": [
        {
          "output_type": "stream",
          "name": "stderr",
          "text": [
            "Using the `WANDB_DISABLED` environment variable is deprecated and will be removed in v5. Use the --report_to flag to control the integrations used for logging result (for instance --report_to none).\n"
          ]
        }
      ],
      "source": [
        "from transformers import TrainingArguments\n",
        "\n",
        "training_args = TrainingArguments(\n",
        "    output_dir='./results',\n",
        "    eval_strategy=\"epoch\",\n",
        "    save_strategy=\"epoch\",\n",
        "    learning_rate=2e-5,\n",
        "    per_device_train_batch_size=8,\n",
        "    per_device_eval_batch_size=16,\n",
        "    num_train_epochs=3,\n",
        "    weight_decay=0.01,\n",
        "    logging_dir='./logs',\n",
        "    logging_steps=10,\n",
        "    load_best_model_at_end=True,\n",
        "    metric_for_best_model=\"f1\",\n",
        "    save_total_limit=1\n",
        ")"
      ]
    },
    {
      "cell_type": "code",
      "execution_count": 24,
      "metadata": {
        "colab": {
          "base_uri": "https://localhost:8080/",
          "height": 204
        },
        "id": "0D4QxC2SDLFE",
        "outputId": "741cb85d-995b-4c23-9247-bd1558e5f095"
      },
      "outputs": [
        {
          "output_type": "display_data",
          "data": {
            "text/plain": [
              "<IPython.core.display.HTML object>"
            ],
            "text/html": [
              "\n",
              "    <div>\n",
              "      \n",
              "      <progress value='6000' max='6000' style='width:300px; height:20px; vertical-align: middle;'></progress>\n",
              "      [6000/6000 16:36, Epoch 3/3]\n",
              "    </div>\n",
              "    <table border=\"1\" class=\"dataframe\">\n",
              "  <thead>\n",
              " <tr style=\"text-align: left;\">\n",
              "      <th>Epoch</th>\n",
              "      <th>Training Loss</th>\n",
              "      <th>Validation Loss</th>\n",
              "      <th>Accuracy</th>\n",
              "      <th>F1</th>\n",
              "      <th>Precision</th>\n",
              "      <th>Recall</th>\n",
              "    </tr>\n",
              "  </thead>\n",
              "  <tbody>\n",
              "    <tr>\n",
              "      <td>1</td>\n",
              "      <td>0.240200</td>\n",
              "      <td>0.216261</td>\n",
              "      <td>0.930500</td>\n",
              "      <td>0.931226</td>\n",
              "      <td>0.934247</td>\n",
              "      <td>0.930500</td>\n",
              "    </tr>\n",
              "    <tr>\n",
              "      <td>2</td>\n",
              "      <td>0.064300</td>\n",
              "      <td>0.166941</td>\n",
              "      <td>0.938500</td>\n",
              "      <td>0.938228</td>\n",
              "      <td>0.939204</td>\n",
              "      <td>0.938500</td>\n",
              "    </tr>\n",
              "    <tr>\n",
              "      <td>3</td>\n",
              "      <td>0.161200</td>\n",
              "      <td>0.190530</td>\n",
              "      <td>0.937000</td>\n",
              "      <td>0.936627</td>\n",
              "      <td>0.937095</td>\n",
              "      <td>0.937000</td>\n",
              "    </tr>\n",
              "  </tbody>\n",
              "</table><p>"
            ]
          },
          "metadata": {}
        },
        {
          "output_type": "execute_result",
          "data": {
            "text/plain": [
              "TrainOutput(global_step=6000, training_loss=0.23295013328144948, metrics={'train_runtime': 997.6405, 'train_samples_per_second': 48.114, 'train_steps_per_second': 6.014, 'total_flos': 2146076617536000.0, 'train_loss': 0.23295013328144948, 'epoch': 3.0})"
            ]
          },
          "metadata": {},
          "execution_count": 24
        }
      ],
      "source": [
        "from transformers import Trainer, TrainingArguments\n",
        "from sklearn.metrics import accuracy_score, f1_score, precision_score, recall_score\n",
        "\n",
        "def compute_metrics(pred):\n",
        "    labels = pred.label_ids\n",
        "    preds = pred.predictions.argmax(-1)\n",
        "    return {\n",
        "        'accuracy': accuracy_score(labels, preds),\n",
        "        'f1': f1_score(labels, preds, average='weighted'),\n",
        "        'precision': precision_score(labels, preds, average='weighted'),\n",
        "        'recall': recall_score(labels, preds, average='weighted')\n",
        "    }\n",
        "\n",
        "trainer = Trainer(\n",
        "    model=model,\n",
        "    args=training_args,\n",
        "    train_dataset=train_dataset,\n",
        "    eval_dataset=val_dataset,\n",
        "    compute_metrics=compute_metrics\n",
        ")\n",
        "\n",
        "# Train the model\n",
        "trainer.train()"
      ]
    },
    {
      "cell_type": "code",
      "execution_count": 25,
      "metadata": {
        "colab": {
          "base_uri": "https://localhost:8080/",
          "height": 74
        },
        "id": "BSZWMnXFUWTh",
        "outputId": "5f479c0e-65c7-4e1d-e882-e56ec4b9d6a6"
      },
      "outputs": [
        {
          "output_type": "display_data",
          "data": {
            "text/plain": [
              "<IPython.core.display.HTML object>"
            ],
            "text/html": [
              "\n",
              "    <div>\n",
              "      \n",
              "      <progress value='125' max='125' style='width:300px; height:20px; vertical-align: middle;'></progress>\n",
              "      [125/125 00:08]\n",
              "    </div>\n",
              "    "
            ]
          },
          "metadata": {}
        },
        {
          "output_type": "stream",
          "name": "stdout",
          "text": [
            "Evaluation Results: {'eval_loss': 0.16694125533103943, 'eval_accuracy': 0.9385, 'eval_f1': 0.9382278079251474, 'eval_precision': 0.9392040630334363, 'eval_recall': 0.9385, 'eval_runtime': 8.4555, 'eval_samples_per_second': 236.533, 'eval_steps_per_second': 14.783, 'epoch': 3.0}\n"
          ]
        }
      ],
      "source": [
        "# Evaluate the model on the validation set\n",
        "eval_results = trainer.evaluate()\n",
        "\n",
        "print(\"Evaluation Results:\", eval_results)"
      ]
    },
    {
      "cell_type": "code",
      "source": [
        "test_encodings = tokenizer(df_test['text'].tolist(), padding=True, truncation=True, max_length=256)"
      ],
      "metadata": {
        "id": "HgEU0wuNosl9"
      },
      "execution_count": 27,
      "outputs": []
    },
    {
      "cell_type": "code",
      "execution_count": 28,
      "metadata": {
        "id": "lpGIYzrNWesU",
        "colab": {
          "base_uri": "https://localhost:8080/",
          "height": 74
        },
        "outputId": "84fa09e6-56a0-4e12-83ee-bde07a113623"
      },
      "outputs": [
        {
          "output_type": "display_data",
          "data": {
            "text/plain": [
              "<IPython.core.display.HTML object>"
            ],
            "text/html": [
              "\n",
              "    <div>\n",
              "      \n",
              "      <progress value='250' max='125' style='width:300px; height:20px; vertical-align: middle;'></progress>\n",
              "      [125/125 14:45]\n",
              "    </div>\n",
              "    "
            ]
          },
          "metadata": {}
        },
        {
          "output_type": "stream",
          "name": "stdout",
          "text": [
            "Test Evaluation Results: {'eval_loss': 0.1837129145860672, 'eval_accuracy': 0.932, 'eval_f1': 0.9311387433885286, 'eval_precision': 0.9322896939442664, 'eval_recall': 0.932, 'eval_runtime': 7.5655, 'eval_samples_per_second': 264.358, 'eval_steps_per_second': 16.522, 'epoch': 3.0}\n"
          ]
        }
      ],
      "source": [
        "test_labels = df_test['label'].tolist()\n",
        "test_dataset = EmotionDataset(test_encodings, test_labels)\n",
        "\n",
        "test_results = trainer.evaluate(test_dataset)\n",
        "print(\"Test Evaluation Results:\", test_results)\n"
      ]
    },
    {
      "cell_type": "code",
      "source": [
        "from sklearn.metrics import classification_report, confusion_matrix\n",
        "import seaborn as sns\n",
        "import matplotlib.pyplot as plt\n",
        "import numpy as np\n",
        "\n",
        "# Get predictions\n",
        "predictions = trainer.predict(test_dataset)\n",
        "preds = np.argmax(predictions.predictions, axis=1)\n",
        "\n",
        "# Convert numerical predictions back to original labels\n",
        "preds_labels = label_encoder.inverse_transform(preds)\n",
        "\n",
        "# Classification report\n",
        "print(classification_report(test_labels, preds_labels, target_names=label_encoder.classes_))\n",
        "\n",
        "# Confusion Matrix\n",
        "cm = confusion_matrix(test_labels, preds_labels)\n",
        "sns.heatmap(cm, annot=True, fmt='d', xticklabels=label_encoder.classes_, yticklabels=label_encoder.classes_)\n",
        "plt.xlabel('Predicted')\n",
        "plt.ylabel('True')\n",
        "plt.title('Confusion Matrix')\n",
        "plt.show()"
      ],
      "metadata": {
        "colab": {
          "base_uri": "https://localhost:8080/",
          "height": 698
        },
        "id": "8A51fzl2mco5",
        "outputId": "ddaf5622-dcf2-45d5-d2b8-a348dfdb1ce1"
      },
      "execution_count": 31,
      "outputs": [
        {
          "output_type": "display_data",
          "data": {
            "text/plain": [
              "<IPython.core.display.HTML object>"
            ],
            "text/html": []
          },
          "metadata": {}
        },
        {
          "output_type": "stream",
          "name": "stdout",
          "text": [
            "              precision    recall  f1-score   support\n",
            "\n",
            "       anger       0.95      0.89      0.92       275\n",
            "        fear       0.88      0.94      0.91       224\n",
            "         joy       0.94      0.97      0.95       695\n",
            "        love       0.92      0.75      0.82       159\n",
            "     sadness       0.96      0.97      0.97       581\n",
            "    surprise       0.75      0.76      0.75        66\n",
            "\n",
            "    accuracy                           0.93      2000\n",
            "   macro avg       0.90      0.88      0.89      2000\n",
            "weighted avg       0.93      0.93      0.93      2000\n",
            "\n"
          ]
        },
        {
          "output_type": "display_data",
          "data": {
            "text/plain": [
              "<Figure size 640x480 with 2 Axes>"
            ],
            "image/png": "[encoded data removed]"
          },
          "metadata": {}
        }
      ]
    },
    {
      "cell_type": "code",
      "source": [
        "model.save_pretrained(\"./final_model\")\n",
        "tokenizer.save_pretrained(\"./final_model\")\n"
      ],
      "metadata": {
        "colab": {
          "base_uri": "https://localhost:8080/"
        },
        "id": "tKA95xWDo7me",
        "outputId": "511cae87-49d1-436f-bdf5-414605bf3173"
      },
      "execution_count": 32,
      "outputs": [
        {
          "output_type": "execute_result",
          "data": {
            "text/plain": [
              "('./final_model/tokenizer_config.json',\n",
              " './final_model/special_tokens_map.json',\n",
              " './final_model/vocab.txt',\n",
              " './final_model/added_tokens.json')"
            ]
          },
          "metadata": {},
          "execution_count": 32
        }
      ]
    },
    {
      "cell_type": "code",
      "source": [
        "# import pandas as pd\n",
        "# from datetime import datetime, timedelta\n",
        "# import random\n",
        "\n",
        "# # Sample list of users (You can replace this with real user IDs later)\n",
        "# users = ['user_01', 'user_02', 'user_03', 'user_04']\n",
        "\n",
        "# # Sample emotions (These would be the predicted emotions from your BERT model)\n",
        "# emotions = ['anger', 'fear', 'joy', 'love', 'sadness', 'surprise']\n",
        "\n",
        "# # Simulating some texts (these would typically come from users' journals)\n",
        "# texts = [\n",
        "#     \"I feel so anxious today\",\n",
        "#     \"Such a great day, everything went well!\",\n",
        "#     \"I am feeling a bit down\",\n",
        "#     \"Life is beautiful!\",\n",
        "#     \"Feeling sad and stressed out\",\n",
        "#     \"What a surprising turn of events!\"\n",
        "# ]\n",
        "\n",
        "# # Initialize an empty list to store the logs\n",
        "# logs = []\n",
        "\n",
        "# # Generate logs for the last 7 days (simulate a week's worth of emotion logs for each user)\n",
        "# for user in users:\n",
        "#     # Generate logs for 7 days for each user\n",
        "#     for i in range(7):\n",
        "#         # Simulate a timestamp for each log entry (starting from today)\n",
        "#         timestamp = datetime.now() - timedelta(days=i)\n",
        "\n",
        "#         # Pick a random emotion and corresponding text\n",
        "#         emotion = random.choice(emotions)\n",
        "#         text = random.choice(texts)\n",
        "\n",
        "#         # Append the log entry (user, timestamp, text, emotion)\n",
        "#         logs.append({\n",
        "#             'timestamp': timestamp.strftime('%Y-%m-%d %H:%M:%S'),\n",
        "#             'user_id': user,\n",
        "#             'text': text,\n",
        "#             'predicted_emotion': emotion\n",
        "#         })\n",
        "\n",
        "# # Create a DataFrame to store the emotion logs\n",
        "# emotion_log_df = pd.DataFrame(logs)\n",
        "\n",
        "# # Display the emotion log DataFrame\n",
        "# print(emotion_log_df)"
      ],
      "metadata": {
        "id": "HIRA8ZKMpccG"
      },
      "execution_count": 36,
      "outputs": []
    },
    {
      "cell_type": "markdown",
      "source": [
        "# **Tracking Emotions Over Time**"
      ],
      "metadata": {
        "id": "6ZjCmNqPAWdp"
      }
    },
    {
      "cell_type": "code",
      "source": [
        "import torch\n",
        "\n",
        "# Function to get model predictions for a given text\n",
        "def get_emotion_prediction(text, model, tokenizer):\n",
        "    # Tokenize the text\n",
        "    inputs = tokenizer(text, return_tensors='pt', padding=True, truncation=True, max_length=256)\n",
        "\n",
        "    # Move inputs to the same device as the model\n",
        "    device = next(model.parameters()).device  # Get the model's device\n",
        "    inputs = {k: v.to(device) for k, v in inputs.items()}\n",
        "\n",
        "    # Predict the emotion using the model\n",
        "    with torch.no_grad():\n",
        "        outputs = model(**inputs)\n",
        "    logits = outputs.logits\n",
        "    predicted_class = torch.argmax(logits, dim=1).item()  # Get the predicted class index\n",
        "    return predicted_class\n",
        "\n",
        "# Initialize an empty list to store the logs\n",
        "logs = []\n",
        "\n",
        "# Simulate logs for the last 7 days (for each user)\n",
        "for user in users:\n",
        "    for i in range(7):\n",
        "        timestamp = datetime.now() - timedelta(days=i)\n",
        "\n",
        "        # Pick a random text\n",
        "        text = random.choice(texts)\n",
        "\n",
        "        # Get the model's predicted emotion for the text\n",
        "        predicted_emotion_idx = get_emotion_prediction(text, model, tokenizer)\n",
        "        predicted_emotion = label_encoder.inverse_transform([predicted_emotion_idx])[0]\n",
        "\n",
        "        # Append the log entry (timestamp, user, text, predicted_emotion)\n",
        "        logs.append({\n",
        "            'timestamp': timestamp.strftime('%Y-%m-%d %H:%M:%S'),\n",
        "            'user_id': user,\n",
        "            'text': text,\n",
        "            'predicted_emotion': predicted_emotion\n",
        "        })\n",
        "\n",
        "# Create a DataFrame to store the emotion logs\n",
        "emotion_log_df = pd.DataFrame(logs)\n",
        "\n",
        "# Display the emotion log DataFrame\n",
        "print(emotion_log_df)"
      ],
      "metadata": {
        "colab": {
          "base_uri": "https://localhost:8080/"
        },
        "id": "m5fdndU7qQPZ",
        "outputId": "8f9b5912-a19a-4c3a-bdbc-40a88adbfe01"
      },
      "execution_count": 35,
      "outputs": [
        {
          "output_type": "stream",
          "name": "stdout",
          "text": [
            "              timestamp  user_id                                     text  \\\n",
            "0   2025-05-02 20:25:51  user_01                       Life is beautiful!   \n",
            "1   2025-05-01 20:25:51  user_01                  I feel so anxious today   \n",
            "2   2025-04-30 20:25:51  user_01             Feeling sad and stressed out   \n",
            "3   2025-04-29 20:25:51  user_01                  I am feeling a bit down   \n",
            "4   2025-04-28 20:25:51  user_01        What a surprising turn of events!   \n",
            "5   2025-04-27 20:25:51  user_01             Feeling sad and stressed out   \n",
            "6   2025-04-26 20:25:51  user_01                  I am feeling a bit down   \n",
            "7   2025-05-02 20:25:51  user_02             Feeling sad and stressed out   \n",
            "8   2025-05-01 20:25:51  user_02  Such a great day, everything went well!   \n",
            "9   2025-04-30 20:25:51  user_02        What a surprising turn of events!   \n",
            "10  2025-04-29 20:25:51  user_02                  I feel so anxious today   \n",
            "11  2025-04-28 20:25:51  user_02                  I feel so anxious today   \n",
            "12  2025-04-27 20:25:51  user_02        What a surprising turn of events!   \n",
            "13  2025-04-26 20:25:51  user_02  Such a great day, everything went well!   \n",
            "14  2025-05-02 20:25:51  user_03                  I am feeling a bit down   \n",
            "15  2025-05-01 20:25:51  user_03                  I feel so anxious today   \n",
            "16  2025-04-30 20:25:51  user_03  Such a great day, everything went well!   \n",
            "17  2025-04-29 20:25:51  user_03                  I feel so anxious today   \n",
            "18  2025-04-28 20:25:52  user_03                       Life is beautiful!   \n",
            "19  2025-04-27 20:25:52  user_03                  I am feeling a bit down   \n",
            "20  2025-04-26 20:25:52  user_03                       Life is beautiful!   \n",
            "21  2025-05-02 20:25:52  user_04        What a surprising turn of events!   \n",
            "22  2025-05-01 20:25:52  user_04                  I am feeling a bit down   \n",
            "23  2025-04-30 20:25:52  user_04  Such a great day, everything went well!   \n",
            "24  2025-04-29 20:25:52  user_04                  I am feeling a bit down   \n",
            "25  2025-04-28 20:25:52  user_04                  I am feeling a bit down   \n",
            "26  2025-04-27 20:25:52  user_04  Such a great day, everything went well!   \n",
            "27  2025-04-26 20:25:52  user_04        What a surprising turn of events!   \n",
            "\n",
            "   predicted_emotion  \n",
            "0                joy  \n",
            "1               fear  \n",
            "2            sadness  \n",
            "3            sadness  \n",
            "4           surprise  \n",
            "5            sadness  \n",
            "6            sadness  \n",
            "7            sadness  \n",
            "8                joy  \n",
            "9           surprise  \n",
            "10              fear  \n",
            "11              fear  \n",
            "12          surprise  \n",
            "13               joy  \n",
            "14           sadness  \n",
            "15              fear  \n",
            "16               joy  \n",
            "17              fear  \n",
            "18               joy  \n",
            "19           sadness  \n",
            "20               joy  \n",
            "21          surprise  \n",
            "22           sadness  \n",
            "23               joy  \n",
            "24           sadness  \n",
            "25           sadness  \n",
            "26               joy  \n",
            "27          surprise  \n"
          ]
        }
      ]
    },
    {
      "cell_type": "markdown",
      "source": [
        "# **Analyzing Emotional Trends**"
      ],
      "metadata": {
        "id": "_mGuUprAA0Z4"
      }
    },
    {
      "cell_type": "code",
      "source": [
        "import pandas as pd\n",
        "import matplotlib.pyplot as plt\n",
        "\n",
        "# Assuming 'emotion_log_df' is the dataframe from the previous step\n",
        "\n",
        "# Convert 'timestamp' column to datetime format for easier manipulation\n",
        "emotion_log_df['timestamp'] = pd.to_datetime(emotion_log_df['timestamp'])\n",
        "\n",
        "# Group by user_id and date to get the frequency of each emotion per day\n",
        "emotion_counts = emotion_log_df.groupby([emotion_log_df['user_id'], emotion_log_df['timestamp'].dt.date, 'predicted_emotion']).size().reset_index(name='count')\n",
        "\n",
        "# Display the first few rows of the grouped data\n",
        "print(emotion_counts.head())\n",
        "\n",
        "# Analyze the trends\n",
        "# For each user, find the most frequent emotions for each day\n",
        "trend_analysis = emotion_counts.groupby(['user_id', 'timestamp']).apply(lambda x: x.nlargest(1, 'count')).reset_index(drop=True)\n",
        "\n",
        "\n",
        "# Show the trend analysis result\n",
        "print(trend_analysis)\n",
        "\n",
        "# If you'd like to visualize these trends (optional)\n",
        "import matplotlib.pyplot as plt\n",
        "import seaborn as sns\n",
        "\n",
        "# Set up the plot\n",
        "plt.figure(figsize=(10, 6))\n",
        "sns.countplot(data=emotion_log_df, x='timestamp', hue='predicted_emotion', palette='Set2')\n",
        "\n",
        "plt.title(\"Emotion Trends Over Time\")\n",
        "plt.xlabel(\"Date\")\n",
        "plt.ylabel(\"Frequency of Emotions\")\n",
        "plt.xticks(rotation=45)\n",
        "plt.show()\n"
      ],
      "metadata": {
        "colab": {
          "base_uri": "https://localhost:8080/",
          "height": 1000
        },
        "id": "Z6ikZ5y2q-Iy",
        "outputId": "52f773af-e928-4dcd-d8eb-68e251002c67"
      },
      "execution_count": 43,
      "outputs": [
        {
          "output_type": "stream",
          "name": "stdout",
          "text": [
            "   user_id   timestamp predicted_emotion  count\n",
            "0  user_01  2025-04-26           sadness      1\n",
            "1  user_01  2025-04-27           sadness      1\n",
            "2  user_01  2025-04-28          surprise      1\n",
            "3  user_01  2025-04-29           sadness      1\n",
            "4  user_01  2025-04-30           sadness      1\n",
            "    user_id   timestamp predicted_emotion  count\n",
            "0   user_01  2025-04-26           sadness      1\n",
            "1   user_01  2025-04-27           sadness      1\n",
            "2   user_01  2025-04-28          surprise      1\n",
            "3   user_01  2025-04-29           sadness      1\n",
            "4   user_01  2025-04-30           sadness      1\n",
            "5   user_01  2025-05-01              fear      1\n",
            "6   user_01  2025-05-02               joy      1\n",
            "7   user_02  2025-04-26               joy      1\n",
            "8   user_02  2025-04-27          surprise      1\n",
            "9   user_02  2025-04-28              fear      1\n",
            "10  user_02  2025-04-29              fear      1\n",
            "11  user_02  2025-04-30          surprise      1\n",
            "12  user_02  2025-05-01               joy      1\n",
            "13  user_02  2025-05-02           sadness      1\n",
            "14  user_03  2025-04-26               joy      1\n",
            "15  user_03  2025-04-27           sadness      1\n",
            "16  user_03  2025-04-28               joy      1\n",
            "17  user_03  2025-04-29              fear      1\n",
            "18  user_03  2025-04-30               joy      1\n",
            "19  user_03  2025-05-01              fear      1\n",
            "20  user_03  2025-05-02           sadness      1\n",
            "21  user_04  2025-04-26          surprise      1\n",
            "22  user_04  2025-04-27               joy      1\n",
            "23  user_04  2025-04-28           sadness      1\n",
            "24  user_04  2025-04-29           sadness      1\n",
            "25  user_04  2025-04-30               joy      1\n",
            "26  user_04  2025-05-01           sadness      1\n",
            "27  user_04  2025-05-02          surprise      1\n"
          ]
        },
        {
          "output_type": "stream",
          "name": "stderr",
          "text": [
            "<ipython-input-43-3b0895306de9>:17: DeprecationWarning: DataFrameGroupBy.apply operated on the grouping columns. This behavior is deprecated, and in a future version of pandas the grouping columns will be excluded from the operation. Either pass `include_groups=False` to exclude the groupings or explicitly select the grouping columns after groupby to silence this warning.\n",
            "  trend_analysis = emotion_counts.groupby(['user_id', 'timestamp']).apply(lambda x: x.nlargest(1, 'count')).reset_index(drop=True)\n"
          ]
        },
        {
          "output_type": "display_data",
          "data": {
            "text/plain": [
              "<Figure size 1000x600 with 1 Axes>"
            ],
            "image/png": "[encoded data removed]"
          },
          "metadata": {}
        }
      ]
    },
    {
      "cell_type": "markdown",
      "source": [
        "# **Simple Personalization**"
      ],
      "metadata": {
        "id": "ooiM4JBeBCeY"
      }
    },
    {
      "cell_type": "code",
      "source": [
        "# Function to generate custom summaries and suggest interventions\n",
        "def generate_personalized_summary(user_id, emotion_log_df):\n",
        "    # Filter the user's logs\n",
        "    user_logs = emotion_log_df[emotion_log_df['user_id'] == user_id]\n",
        "\n",
        "    # Identify trends in emotions (e.g., how many days of sadness, joy, etc.)\n",
        "    emotion_counts = user_logs['predicted_emotion'].value_counts()\n",
        "\n",
        "    # Check for long-term low moods (e.g., sadness or fear for multiple days)\n",
        "    low_moods = ['sadness', 'fear']\n",
        "    long_term_low_mood = emotion_counts[emotion_counts.index.isin(low_moods)]\n",
        "\n",
        "    # Check if there's a significant low mood trend (e.g., 3 or more consecutive days of sadness)\n",
        "    low_mood_days = user_logs[user_logs['predicted_emotion'].isin(low_moods)]\n",
        "    consecutive_low_moods = low_mood_days['predicted_emotion'].value_counts()\n",
        "\n",
        "    # Generate summary and suggestion\n",
        "    if len(low_mood_days) >= 3:\n",
        "        summary = f\"You've been feeling low for {len(low_mood_days)} days.\"\n",
        "        intervention = \"We suggest journaling today or taking a few minutes to meditate or breathe deeply.\"\n",
        "    else:\n",
        "        summary = f\"You’ve been feeling positive for {len(user_logs) - len(low_mood_days)} days.\"\n",
        "        intervention = \"Keep up the positive vibes! Consider sharing your good mood with a friend today.\"\n",
        "\n",
        "    return summary, intervention\n",
        "\n",
        "# Loop through users to generate summaries and interventions\n",
        "for user in emotion_log_df['user_id'].unique():\n",
        "    summary, intervention = generate_personalized_summary(user, emotion_log_df)\n",
        "\n",
        "    # Display the summary and suggestion\n",
        "    print(f\"User {user}:\")\n",
        "    print(f\"  Summary: {summary}\")\n",
        "    print(f\"  Intervention Suggestion: {intervention}\\n\")\n"
      ],
      "metadata": {
        "colab": {
          "base_uri": "https://localhost:8080/"
        },
        "id": "NS9IbQ7us1X5",
        "outputId": "9bfb073f-f19a-4120-fdcf-6a2cb77601dd"
      },
      "execution_count": 44,
      "outputs": [
        {
          "output_type": "stream",
          "name": "stdout",
          "text": [
            "User user_01:\n",
            "  Summary: You've been feeling low for 5 days.\n",
            "  Intervention Suggestion: We suggest journaling today or taking a few minutes to meditate or breathe deeply.\n",
            "\n",
            "User user_02:\n",
            "  Summary: You've been feeling low for 3 days.\n",
            "  Intervention Suggestion: We suggest journaling today or taking a few minutes to meditate or breathe deeply.\n",
            "\n",
            "User user_03:\n",
            "  Summary: You've been feeling low for 4 days.\n",
            "  Intervention Suggestion: We suggest journaling today or taking a few minutes to meditate or breathe deeply.\n",
            "\n",
            "User user_04:\n",
            "  Summary: You've been feeling low for 3 days.\n",
            "  Intervention Suggestion: We suggest journaling today or taking a few minutes to meditate or breathe deeply.\n",
            "\n"
          ]
        }
      ]
    },
    {
      "cell_type": "code",
      "source": [
        "# Enhance features: include previous emotion and emotional trends\n",
        "emotion_log_df['prev_emotion'] = emotion_log_df.groupby('user_id')['predicted_emotion'].shift(1)\n",
        "\n",
        "# Count how many times each emotion appeared in the last 7 days\n",
        "emotion_log_df['emotion_count'] = emotion_log_df.groupby(['user_id', 'predicted_emotion'])['predicted_emotion'].transform('count')\n",
        "\n",
        "# For simplicity, let's assume we're now using 'prev_emotion' and 'emotion_count' as features\n",
        "emotion_log_df['prev_emotion_code'] = emotion_log_df['prev_emotion'].map({\n",
        "    'joy': 0, 'sadness': 1, 'fear': 2, 'anger': 3, 'surprise': 4, 'love': 5\n",
        "})\n",
        "emotion_log_df['emotion_count'] = emotion_log_df['emotion_count'].astype(int)\n",
        "\n",
        "# Train a model with these additional features\n",
        "for user in emotion_log_df['user_id'].unique():\n",
        "    user_data = emotion_log_df[emotion_log_df['user_id'] == user]\n",
        "\n",
        "    # Use 'prev_emotion_code' and 'emotion_count' as features\n",
        "    X = user_data[['prev_emotion_code', 'emotion_count']]\n",
        "    y = user_data['emotion_code']\n",
        "\n",
        "    # Handle missing data (drop rows with NaN values)\n",
        "    X = X.dropna()\n",
        "    y = y[X.index]  # Drop corresponding labels\n",
        "\n",
        "    # Split data into training and test sets\n",
        "    X_train, X_test, y_train, y_test = train_test_split(X, y, test_size=0.2, random_state=42)\n",
        "\n",
        "    # Initialize and train the model\n",
        "    model = RandomForestClassifier(n_estimators=100, random_state=42, class_weight='balanced')\n",
        "    model.fit(X_train, y_train)\n",
        "\n",
        "    # Predict and evaluate the model\n",
        "    y_pred = model.predict(X_test)\n",
        "    accuracy = accuracy_score(y_test, y_pred)\n",
        "\n",
        "    print(f\"User {user} Model Accuracy: {accuracy:.2f}\")\n"
      ],
      "metadata": {
        "colab": {
          "base_uri": "https://localhost:8080/"
        },
        "id": "ZeQ8Y0bPtCOm",
        "outputId": "cb64a3f4-f81d-4c24-8bc3-b319e97e6a97"
      },
      "execution_count": 47,
      "outputs": [
        {
          "output_type": "stream",
          "name": "stdout",
          "text": [
            "User user_01 Model Accuracy: 0.50\n",
            "User user_02 Model Accuracy: 0.50\n",
            "User user_03 Model Accuracy: 0.50\n",
            "User user_04 Model Accuracy: 1.00\n"
          ]
        }
      ]
    },
    {
      "cell_type": "markdown",
      "source": [
        "# **Creating user-specific emotion profiles using embeddings**"
      ],
      "metadata": {
        "id": "7pY4oN9kCHfd"
      }
    },
    {
      "cell_type": "code",
      "source": [
        "import torch\n",
        "from transformers import AutoTokenizer, AutoModel\n",
        "import numpy as np\n",
        "\n",
        "# Load the same BERT model and tokenizer (used for fine-tuning)\n",
        "bert_model = AutoModel.from_pretrained('bert-base-uncased')\n",
        "bert_model.eval()\n",
        "tokenizer = AutoTokenizer.from_pretrained('bert-base-uncased')\n",
        "\n",
        "# Function to get sentence embedding (mean pooling of BERT output)\n",
        "def get_sentence_embedding(text, model, tokenizer):\n",
        "    inputs = tokenizer(text, return_tensors='pt', truncation=True, padding=True, max_length=128)\n",
        "    with torch.no_grad():\n",
        "        outputs = model(**inputs)\n",
        "    last_hidden_state = outputs.last_hidden_state.squeeze(0)\n",
        "    embedding = last_hidden_state.mean(dim=0).numpy()\n",
        "    return embedding\n",
        "\n",
        "# Create user-specific emotion profile (mean embedding of their texts)\n",
        "user_profiles = {}\n",
        "for user in emotion_log_df['user_id'].unique():\n",
        "    user_texts = emotion_log_df[emotion_log_df['user_id'] == user]['text']\n",
        "    embeddings = [get_sentence_embedding(text, bert_model, tokenizer) for text in user_texts]\n",
        "    avg_embedding = np.mean(embeddings, axis=0)\n",
        "    user_profiles[user] = avg_embedding\n"
      ],
      "metadata": {
        "id": "CFgJvNh8ytQ8"
      },
      "execution_count": 48,
      "outputs": []
    },
    {
      "cell_type": "markdown",
      "source": [
        "# **Comparing new input text to user profile using cosine similarity**"
      ],
      "metadata": {
        "id": "uSLmOwBaCRpI"
      }
    },
    {
      "cell_type": "code",
      "source": [
        "from sklearn.metrics.pairwise import cosine_similarity\n",
        "\n",
        "# Function to compare a new text with user's emotional profile\n",
        "def compare_to_user_profile(user_id, text, user_profiles, model, tokenizer):\n",
        "    new_embedding = get_sentence_embedding(text, model, tokenizer).reshape(1, -1)\n",
        "    user_embedding = user_profiles[user_id].reshape(1, -1)\n",
        "    similarity = cosine_similarity(new_embedding, user_embedding)[0][0]\n",
        "    return similarity\n",
        "\n",
        "# Example usage (for recent log entries)\n",
        "for user in emotion_log_df['user_id'].unique():\n",
        "    latest_text = emotion_log_df[emotion_log_df['user_id'] == user].iloc[-1]['text']\n",
        "    sim_score = compare_to_user_profile(user, latest_text, user_profiles, bert_model, tokenizer)\n",
        "    print(f\"User: {user}, Similarity to Profile: {sim_score:.2f}\")"
      ],
      "metadata": {
        "colab": {
          "base_uri": "https://localhost:8080/"
        },
        "id": "uJN8fCrctJBm",
        "outputId": "e78c81e2-795b-4554-b590-92d57591f286"
      },
      "execution_count": 49,
      "outputs": [
        {
          "output_type": "stream",
          "name": "stdout",
          "text": [
            "User: user_01, Similarity to Profile: 0.88\n",
            "User: user_02, Similarity to Profile: 0.89\n",
            "User: user_03, Similarity to Profile: 0.83\n",
            "User: user_04, Similarity to Profile: 0.87\n"
          ]
        }
      ]
    },
    {
      "cell_type": "markdown",
      "source": [
        "# **Detect shifts and flag for intervention**"
      ],
      "metadata": {
        "id": "i4nXZtZkCZ48"
      }
    },
    {
      "cell_type": "code",
      "source": [
        "# Set a similarity threshold\n",
        "SIMILARITY_THRESHOLD = 0.90\n",
        "\n",
        "# Check for users showing emotional shift\n",
        "alerts = []\n",
        "\n",
        "for user in emotion_log_df['user_id'].unique():\n",
        "    latest_text = emotion_log_df[emotion_log_df['user_id'] == user].iloc[-1]['text']\n",
        "    sim_score = compare_to_user_profile(user, latest_text, user_profiles, bert_model, tokenizer)\n",
        "\n",
        "    if sim_score < SIMILARITY_THRESHOLD:\n",
        "        alerts.append({\n",
        "            'user_id': user,\n",
        "            'similarity': sim_score,\n",
        "            'latest_text': latest_text,\n",
        "            'flag': 'Potential emotional shift detected'\n",
        "        })\n",
        "\n",
        "# Show alerts\n",
        "alerts_df = pd.DataFrame(alerts)\n",
        "print(alerts_df)\n"
      ],
      "metadata": {
        "colab": {
          "base_uri": "https://localhost:8080/"
        },
        "id": "labkVjbmzHdQ",
        "outputId": "cd6776ad-9ea8-46b9-ffee-ec562663473a"
      },
      "execution_count": 52,
      "outputs": [
        {
          "output_type": "stream",
          "name": "stdout",
          "text": [
            "   user_id  similarity                              latest_text  \\\n",
            "0  user_01    0.878674                  I am feeling a bit down   \n",
            "1  user_02    0.890601  Such a great day, everything went well!   \n",
            "2  user_03    0.831330                       Life is beautiful!   \n",
            "3  user_04    0.872799        What a surprising turn of events!   \n",
            "\n",
            "                                 flag  \n",
            "0  Potential emotional shift detected  \n",
            "1  Potential emotional shift detected  \n",
            "2  Potential emotional shift detected  \n",
            "3  Potential emotional shift detected  \n"
          ]
        }
      ]
    },
    {
      "cell_type": "markdown",
      "source": [
        "# **Match similar emotional states and reuse helpful interventions**"
      ],
      "metadata": {
        "id": "tC6Or78vCnrv"
      }
    },
    {
      "cell_type": "code",
      "source": [
        "# Simulate intervention log\n",
        "intervention_logs = []\n",
        "\n",
        "# Sample interventions\n",
        "interventions = [\n",
        "    \"Try 10-minute meditation\",\n",
        "    \"Write a short journal entry\",\n",
        "    \"Talk to a close friend\",\n",
        "    \"Do a short walk outdoors\"\n",
        "]\n",
        "\n",
        "# Assume some alerts were triggered (simulated for demonstration)\n",
        "simulated_alerts = [\n",
        "    {\"user_id\": \"user_01\", \"timestamp\": \"2025-05-02\", \"predicted_emotion\": \"sadness\"},\n",
        "    {\"user_id\": \"user_03\", \"timestamp\": \"2025-05-02\", \"predicted_emotion\": \"fear\"}\n",
        "]\n",
        "\n",
        "# Log the shown intervention and user feedback\n",
        "for alert in simulated_alerts:\n",
        "    suggested = random.choice(interventions)\n",
        "    user_feedback = random.choice([\"yes\", \"no\"])  # simulate feedback\n",
        "\n",
        "    intervention_logs.append({\n",
        "        \"user_id\": alert[\"user_id\"],\n",
        "        \"timestamp\": alert[\"timestamp\"],\n",
        "        \"predicted_emotion\": alert[\"predicted_emotion\"],\n",
        "        \"intervention\": suggested,\n",
        "        \"was_helpful\": user_feedback\n",
        "    })\n",
        "\n",
        "# Convert to DataFrame\n",
        "intervention_df = pd.DataFrame(intervention_logs)\n",
        "print(intervention_df)\n"
      ],
      "metadata": {
        "colab": {
          "base_uri": "https://localhost:8080/"
        },
        "id": "HA07eMyhtMOF",
        "outputId": "982908fe-3117-476e-bc86-7cd8bef37d27"
      },
      "execution_count": 53,
      "outputs": [
        {
          "output_type": "stream",
          "name": "stdout",
          "text": [
            "   user_id   timestamp predicted_emotion                 intervention  \\\n",
            "0  user_01  2025-05-02           sadness     Try 10-minute meditation   \n",
            "1  user_03  2025-05-02              fear  Write a short journal entry   \n",
            "\n",
            "  was_helpful  \n",
            "0         yes  \n",
            "1         yes  \n"
          ]
        }
      ]
    },
    {
      "cell_type": "code",
      "source": [
        "# Build a lookup from past helpful interventions\n",
        "helpful_lookup = intervention_df[intervention_df[\"was_helpful\"] == \"yes\"]\n",
        "\n",
        "# Function to recommend based on similar past emotions\n",
        "def recommend_intervention(user_id, current_emotion, lookup_df):\n",
        "    # Check if we’ve seen this emotion before in helpful history\n",
        "    similar_cases = lookup_df[lookup_df[\"predicted_emotion\"] == current_emotion]\n",
        "\n",
        "    if not similar_cases.empty:\n",
        "        return similar_cases[\"intervention\"].sample(1).values[0]  # random helpful one\n",
        "    else:\n",
        "        return \"Explore something calming you enjoy\"  # fallback\n",
        "\n",
        "# Example usage\n",
        "user_current_state = {\n",
        "    \"user_id\": \"user_03\",\n",
        "    \"predicted_emotion\": \"fear\"\n",
        "}\n",
        "\n",
        "suggested = recommend_intervention(\n",
        "    user_current_state[\"user_id\"],\n",
        "    user_current_state[\"predicted_emotion\"],\n",
        "    helpful_lookup\n",
        ")\n",
        "\n",
        "print(f\"Suggested intervention for {user_current_state['user_id']} (emotion: {user_current_state['predicted_emotion']}): {suggested}\")\n"
      ],
      "metadata": {
        "colab": {
          "base_uri": "https://localhost:8080/"
        },
        "id": "ExCvjbuhtPxT",
        "outputId": "b2526a73-c1a6-48c1-88e2-1bf1d2eb81a3"
      },
      "execution_count": 54,
      "outputs": [
        {
          "output_type": "stream",
          "name": "stdout",
          "text": [
            "Suggested intervention for user_03 (emotion: fear): Write a short journal entry\n"
          ]
        }
      ]
    },
    {
      "cell_type": "code",
      "source": [],
      "metadata": {
        "id": "U16sgxGg0EAr"
      },
      "execution_count": null,
      "outputs": []
    }
  ],
  "metadata": {
    "colab": {
      "provenance": [],
      "gpuType": "T4"
    },
    "kernelspec": {
      "display_name": "Python 3",
      "name": "python3"
    },
    "language_info": {
      "name": "python"
    },
    "accelerator": "GPU",
    "widgets": {
      "application/vnd.jupyter.widget-state+json": {
        "a21e78965e5a4df9818caed9b78a767c": {
          "model_module": "@jupyter-widgets/controls",
          "model_name": "HBoxModel",
          "model_module_version": "1.5.0",
          "state": {
            "_dom_classes": [],
            "_model_module": "@jupyter-widgets/controls",
            "_model_module_version": "1.5.0",
            "_model_name": "HBoxModel",
            "_view_count": null,
            "_view_module": "@jupyter-widgets/controls",
            "_view_module_version": "1.5.0",
            "_view_name": "HBoxView",
            "box_style": "",
            "children": [
              "IPY_MODEL_186eb0ef52bb41c79d5dcfc7c11d8d3a",
              "IPY_MODEL_682b6e3b0f1e4482b43b42b6a6b60e0c",
              "IPY_MODEL_4f1f7b0bc91045b6930f2b4a83d06c49"
            ],
            "layout": "IPY_MODEL_5d72645a791746c8812965b15c632afc"
          }
        },
        "186eb0ef52bb41c79d5dcfc7c11d8d3a": {
          "model_module": "@jupyter-widgets/controls",
          "model_name": "HTMLModel",
          "model_module_version": "1.5.0",
          "state": {
            "_dom_classes": [],
            "_model_module": "@jupyter-widgets/controls",
            "_model_module_version": "1.5.0",
            "_model_name": "HTMLModel",
            "_view_count": null,
            "_view_module": "@jupyter-widgets/controls",
            "_view_module_version": "1.5.0",
            "_view_name": "HTMLView",
            "description": "",
            "description_tooltip": null,
            "layout": "IPY_MODEL_3c40faf912a54c309c53bdcae42d8d28",
            "placeholder": "​",
            "style": "IPY_MODEL_16d8c54f39d64689a7f6e20f1f72a4cf",
            "value": "tokenizer_config.json: 100%"
          }
        },
        "682b6e3b0f1e4482b43b42b6a6b60e0c": {
          "model_module": "@jupyter-widgets/controls",
          "model_name": "FloatProgressModel",
          "model_module_version": "1.5.0",
          "state": {
            "_dom_classes": [],
            "_model_module": "@jupyter-widgets/controls",
            "_model_module_version": "1.5.0",
            "_model_name": "FloatProgressModel",
            "_view_count": null,
            "_view_module": "@jupyter-widgets/controls",
            "_view_module_version": "1.5.0",
            "_view_name": "ProgressView",
            "bar_style": "success",
            "description": "",
            "description_tooltip": null,
            "layout": "IPY_MODEL_491f273426f746809ea77ef9f10e3547",
            "max": 48,
            "min": 0,
            "orientation": "horizontal",
            "style": "IPY_MODEL_f55435271ff84916ad0cd031b27bf2a3",
            "value": 48
          }
        },
        "4f1f7b0bc91045b6930f2b4a83d06c49": {
          "model_module": "@jupyter-widgets/controls",
          "model_name": "HTMLModel",
          "model_module_version": "1.5.0",
          "state": {
            "_dom_classes": [],
            "_model_module": "@jupyter-widgets/controls",
            "_model_module_version": "1.5.0",
            "_model_name": "HTMLModel",
            "_view_count": null,
            "_view_module": "@jupyter-widgets/controls",
            "_view_module_version": "1.5.0",
            "_view_name": "HTMLView",
            "description": "",
            "description_tooltip": null,
            "layout": "IPY_MODEL_9da0271cb54d43799942bed601d9cfb7",
            "placeholder": "​",
            "style": "IPY_MODEL_cf3a8fb86f3340b4a7d780467efd402a",
            "value": " 48.0/48.0 [00:00&lt;00:00, 1.19kB/s]"
          }
        },
        "5d72645a791746c8812965b15c632afc": {
          "model_module": "@jupyter-widgets/base",
          "model_name": "LayoutModel",
          "model_module_version": "1.2.0",
          "state": {
            "_model_module": "@jupyter-widgets/base",
            "_model_module_version": "1.2.0",
            "_model_name": "LayoutModel",
            "_view_count": null,
            "_view_module": "@jupyter-widgets/base",
            "_view_module_version": "1.2.0",
            "_view_name": "LayoutView",
            "align_content": null,
            "align_items": null,
            "align_self": null,
            "border": null,
            "bottom": null,
            "display": null,
            "flex": null,
            "flex_flow": null,
            "grid_area": null,
            "grid_auto_columns": null,
            "grid_auto_flow": null,
            "grid_auto_rows": null,
            "grid_column": null,
            "grid_gap": null,
            "grid_row": null,
            "grid_template_areas": null,
            "grid_template_columns": null,
            "grid_template_rows": null,
            "height": null,
            "justify_content": null,
            "justify_items": null,
            "left": null,
            "margin": null,
            "max_height": null,
            "max_width": null,
            "min_height": null,
            "min_width": null,
            "object_fit": null,
            "object_position": null,
            "order": null,
            "overflow": null,
            "overflow_x": null,
            "overflow_y": null,
            "padding": null,
            "right": null,
            "top": null,
            "visibility": null,
            "width": null
          }
        },
        "3c40faf912a54c309c53bdcae42d8d28": {
          "model_module": "@jupyter-widgets/base",
          "model_name": "LayoutModel",
          "model_module_version": "1.2.0",
          "state": {
            "_model_module": "@jupyter-widgets/base",
            "_model_module_version": "1.2.0",
            "_model_name": "LayoutModel",
            "_view_count": null,
            "_view_module": "@jupyter-widgets/base",
            "_view_module_version": "1.2.0",
            "_view_name": "LayoutView",
            "align_content": null,
            "align_items": null,
            "align_self": null,
            "border": null,
            "bottom": null,
            "display": null,
            "flex": null,
            "flex_flow": null,
            "grid_area": null,
            "grid_auto_columns": null,
            "grid_auto_flow": null,
            "grid_auto_rows": null,
            "grid_column": null,
            "grid_gap": null,
            "grid_row": null,
            "grid_template_areas": null,
            "grid_template_columns": null,
            "grid_template_rows": null,
            "height": null,
            "justify_content": null,
            "justify_items": null,
            "left": null,
            "margin": null,
            "max_height": null,
            "max_width": null,
            "min_height": null,
            "min_width": null,
            "object_fit": null,
            "object_position": null,
            "order": null,
            "overflow": null,
            "overflow_x": null,
            "overflow_y": null,
            "padding": null,
            "right": null,
            "top": null,
            "visibility": null,
            "width": null
          }
        },
        "16d8c54f39d64689a7f6e20f1f72a4cf": {
          "model_module": "@jupyter-widgets/controls",
          "model_name": "DescriptionStyleModel",
          "model_module_version": "1.5.0",
          "state": {
            "_model_module": "@jupyter-widgets/controls",
            "_model_module_version": "1.5.0",
            "_model_name": "DescriptionStyleModel",
            "_view_count": null,
            "_view_module": "@jupyter-widgets/base",
            "_view_module_version": "1.2.0",
            "_view_name": "StyleView",
            "description_width": ""
          }
        },
        "491f273426f746809ea77ef9f10e3547": {
          "model_module": "@jupyter-widgets/base",
          "model_name": "LayoutModel",
          "model_module_version": "1.2.0",
          "state": {
            "_model_module": "@jupyter-widgets/base",
            "_model_module_version": "1.2.0",
            "_model_name": "LayoutModel",
            "_view_count": null,
            "_view_module": "@jupyter-widgets/base",
            "_view_module_version": "1.2.0",
            "_view_name": "LayoutView",
            "align_content": null,
            "align_items": null,
            "align_self": null,
            "border": null,
            "bottom": null,
            "display": null,
            "flex": null,
            "flex_flow": null,
            "grid_area": null,
            "grid_auto_columns": null,
            "grid_auto_flow": null,
            "grid_auto_rows": null,
            "grid_column": null,
            "grid_gap": null,
            "grid_row": null,
            "grid_template_areas": null,
            "grid_template_columns": null,
            "grid_template_rows": null,
            "height": null,
            "justify_content": null,
            "justify_items": null,
            "left": null,
            "margin": null,
            "max_height": null,
            "max_width": null,
            "min_height": null,
            "min_width": null,
            "object_fit": null,
            "object_position": null,
            "order": null,
            "overflow": null,
            "overflow_x": null,
            "overflow_y": null,
            "padding": null,
            "right": null,
            "top": null,
            "visibility": null,
            "width": null
          }
        },
        "f55435271ff84916ad0cd031b27bf2a3": {
          "model_module": "@jupyter-widgets/controls",
          "model_name": "ProgressStyleModel",
          "model_module_version": "1.5.0",
          "state": {
            "_model_module": "@jupyter-widgets/controls",
            "_model_module_version": "1.5.0",
            "_model_name": "ProgressStyleModel",
            "_view_count": null,
            "_view_module": "@jupyter-widgets/base",
            "_view_module_version": "1.2.0",
            "_view_name": "StyleView",
            "bar_color": null,
            "description_width": ""
          }
        },
        "9da0271cb54d43799942bed601d9cfb7": {
          "model_module": "@jupyter-widgets/base",
          "model_name": "LayoutModel",
          "model_module_version": "1.2.0",
          "state": {
            "_model_module": "@jupyter-widgets/base",
            "_model_module_version": "1.2.0",
            "_model_name": "LayoutModel",
            "_view_count": null,
            "_view_module": "@jupyter-widgets/base",
            "_view_module_version": "1.2.0",
            "_view_name": "LayoutView",
            "align_content": null,
            "align_items": null,
            "align_self": null,
            "border": null,
            "bottom": null,
            "display": null,
            "flex": null,
            "flex_flow": null,
            "grid_area": null,
            "grid_auto_columns": null,
            "grid_auto_flow": null,
            "grid_auto_rows": null,
            "grid_column": null,
            "grid_gap": null,
            "grid_row": null,
            "grid_template_areas": null,
            "grid_template_columns": null,
            "grid_template_rows": null,
            "height": null,
            "justify_content": null,
            "justify_items": null,
            "left": null,
            "margin": null,
            "max_height": null,
            "max_width": null,
            "min_height": null,
            "min_width": null,
            "object_fit": null,
            "object_position": null,
            "order": null,
            "overflow": null,
            "overflow_x": null,
            "overflow_y": null,
            "padding": null,
            "right": null,
            "top": null,
            "visibility": null,
            "width": null
          }
        },
        "cf3a8fb86f3340b4a7d780467efd402a": {
          "model_module": "@jupyter-widgets/controls",
          "model_name": "DescriptionStyleModel",
          "model_module_version": "1.5.0",
          "state": {
            "_model_module": "@jupyter-widgets/controls",
            "_model_module_version": "1.5.0",
            "_model_name": "DescriptionStyleModel",
            "_view_count": null,
            "_view_module": "@jupyter-widgets/base",
            "_view_module_version": "1.2.0",
            "_view_name": "StyleView",
            "description_width": ""
          }
        },
        "957a1f5d322445949943990ce5cdc012": {
          "model_module": "@jupyter-widgets/controls",
          "model_name": "HBoxModel",
          "model_module_version": "1.5.0",
          "state": {
            "_dom_classes": [],
            "_model_module": "@jupyter-widgets/controls",
            "_model_module_version": "1.5.0",
            "_model_name": "HBoxModel",
            "_view_count": null,
            "_view_module": "@jupyter-widgets/controls",
            "_view_module_version": "1.5.0",
            "_view_name": "HBoxView",
            "box_style": "",
            "children": [
              "IPY_MODEL_f9bfa458b3be429c8344dec2de1ff3aa",
              "IPY_MODEL_51cc1e5f7b3643089115df5b956499e9",
              "IPY_MODEL_c1db32bffade49ea80b7a0fd561fae3a"
            ],
            "layout": "IPY_MODEL_1dba3927257347319a03d0e6785be405"
          }
        },
        "f9bfa458b3be429c8344dec2de1ff3aa": {
          "model_module": "@jupyter-widgets/controls",
          "model_name": "HTMLModel",
          "model_module_version": "1.5.0",
          "state": {
            "_dom_classes": [],
            "_model_module": "@jupyter-widgets/controls",
            "_model_module_version": "1.5.0",
            "_model_name": "HTMLModel",
            "_view_count": null,
            "_view_module": "@jupyter-widgets/controls",
            "_view_module_version": "1.5.0",
            "_view_name": "HTMLView",
            "description": "",
            "description_tooltip": null,
            "layout": "IPY_MODEL_f727ef9d68484e0ba4369129f3cf0c54",
            "placeholder": "​",
            "style": "IPY_MODEL_6f01d3754e0545109c3dd2e9647f6456",
            "value": "vocab.txt: 100%"
          }
        },
        "51cc1e5f7b3643089115df5b956499e9": {
          "model_module": "@jupyter-widgets/controls",
          "model_name": "FloatProgressModel",
          "model_module_version": "1.5.0",
          "state": {
            "_dom_classes": [],
            "_model_module": "@jupyter-widgets/controls",
            "_model_module_version": "1.5.0",
            "_model_name": "FloatProgressModel",
            "_view_count": null,
            "_view_module": "@jupyter-widgets/controls",
            "_view_module_version": "1.5.0",
            "_view_name": "ProgressView",
            "bar_style": "success",
            "description": "",
            "description_tooltip": null,
            "layout": "IPY_MODEL_363011bfab0c4410bf913563bc0015d9",
            "max": 231508,
            "min": 0,
            "orientation": "horizontal",
            "style": "IPY_MODEL_5f7145b8fd0044b4899dc7992bd40b54",
            "value": 231508
          }
        },
        "c1db32bffade49ea80b7a0fd561fae3a": {
          "model_module": "@jupyter-widgets/controls",
          "model_name": "HTMLModel",
          "model_module_version": "1.5.0",
          "state": {
            "_dom_classes": [],
            "_model_module": "@jupyter-widgets/controls",
            "_model_module_version": "1.5.0",
            "_model_name": "HTMLModel",
            "_view_count": null,
            "_view_module": "@jupyter-widgets/controls",
            "_view_module_version": "1.5.0",
            "_view_name": "HTMLView",
            "description": "",
            "description_tooltip": null,
            "layout": "IPY_MODEL_04f2f3a263374786bf4af1139dc7afd7",
            "placeholder": "​",
            "style": "IPY_MODEL_92f03bfdcb184ab680ce1eb5fc99f88d",
            "value": " 232k/232k [00:00&lt;00:00, 2.59MB/s]"
          }
        },
        "1dba3927257347319a03d0e6785be405": {
          "model_module": "@jupyter-widgets/base",
          "model_name": "LayoutModel",
          "model_module_version": "1.2.0",
          "state": {
            "_model_module": "@jupyter-widgets/base",
            "_model_module_version": "1.2.0",
            "_model_name": "LayoutModel",
            "_view_count": null,
            "_view_module": "@jupyter-widgets/base",
            "_view_module_version": "1.2.0",
            "_view_name": "LayoutView",
            "align_content": null,
            "align_items": null,
            "align_self": null,
            "border": null,
            "bottom": null,
            "display": null,
            "flex": null,
            "flex_flow": null,
            "grid_area": null,
            "grid_auto_columns": null,
            "grid_auto_flow": null,
            "grid_auto_rows": null,
            "grid_column": null,
            "grid_gap": null,
            "grid_row": null,
            "grid_template_areas": null,
            "grid_template_columns": null,
            "grid_template_rows": null,
            "height": null,
            "justify_content": null,
            "justify_items": null,
            "left": null,
            "margin": null,
            "max_height": null,
            "max_width": null,
            "min_height": null,
            "min_width": null,
            "object_fit": null,
            "object_position": null,
            "order": null,
            "overflow": null,
            "overflow_x": null,
            "overflow_y": null,
            "padding": null,
            "right": null,
            "top": null,
            "visibility": null,
            "width": null
          }
        },
        "f727ef9d68484e0ba4369129f3cf0c54": {
          "model_module": "@jupyter-widgets/base",
          "model_name": "LayoutModel",
          "model_module_version": "1.2.0",
          "state": {
            "_model_module": "@jupyter-widgets/base",
            "_model_module_version": "1.2.0",
            "_model_name": "LayoutModel",
            "_view_count": null,
            "_view_module": "@jupyter-widgets/base",
            "_view_module_version": "1.2.0",
            "_view_name": "LayoutView",
            "align_content": null,
            "align_items": null,
            "align_self": null,
            "border": null,
            "bottom": null,
            "display": null,
            "flex": null,
            "flex_flow": null,
            "grid_area": null,
            "grid_auto_columns": null,
            "grid_auto_flow": null,
            "grid_auto_rows": null,
            "grid_column": null,
            "grid_gap": null,
            "grid_row": null,
            "grid_template_areas": null,
            "grid_template_columns": null,
            "grid_template_rows": null,
            "height": null,
            "justify_content": null,
            "justify_items": null,
            "left": null,
            "margin": null,
            "max_height": null,
            "max_width": null,
            "min_height": null,
            "min_width": null,
            "object_fit": null,
            "object_position": null,
            "order": null,
            "overflow": null,
            "overflow_x": null,
            "overflow_y": null,
            "padding": null,
            "right": null,
            "top": null,
            "visibility": null,
            "width": null
          }
        },
        "6f01d3754e0545109c3dd2e9647f6456": {
          "model_module": "@jupyter-widgets/controls",
          "model_name": "DescriptionStyleModel",
          "model_module_version": "1.5.0",
          "state": {
            "_model_module": "@jupyter-widgets/controls",
            "_model_module_version": "1.5.0",
            "_model_name": "DescriptionStyleModel",
            "_view_count": null,
            "_view_module": "@jupyter-widgets/base",
            "_view_module_version": "1.2.0",
            "_view_name": "StyleView",
            "description_width": ""
          }
        },
        "363011bfab0c4410bf913563bc0015d9": {
          "model_module": "@jupyter-widgets/base",
          "model_name": "LayoutModel",
          "model_module_version": "1.2.0",
          "state": {
            "_model_module": "@jupyter-widgets/base",
            "_model_module_version": "1.2.0",
            "_model_name": "LayoutModel",
            "_view_count": null,
            "_view_module": "@jupyter-widgets/base",
            "_view_module_version": "1.2.0",
            "_view_name": "LayoutView",
            "align_content": null,
            "align_items": null,
            "align_self": null,
            "border": null,
            "bottom": null,
            "display": null,
            "flex": null,
            "flex_flow": null,
            "grid_area": null,
            "grid_auto_columns": null,
            "grid_auto_flow": null,
            "grid_auto_rows": null,
            "grid_column": null,
            "grid_gap": null,
            "grid_row": null,
            "grid_template_areas": null,
            "grid_template_columns": null,
            "grid_template_rows": null,
            "height": null,
            "justify_content": null,
            "justify_items": null,
            "left": null,
            "margin": null,
            "max_height": null,
            "max_width": null,
            "min_height": null,
            "min_width": null,
            "object_fit": null,
            "object_position": null,
            "order": null,
            "overflow": null,
            "overflow_x": null,
            "overflow_y": null,
            "padding": null,
            "right": null,
            "top": null,
            "visibility": null,
            "width": null
          }
        },
        "5f7145b8fd0044b4899dc7992bd40b54": {
          "model_module": "@jupyter-widgets/controls",
          "model_name": "ProgressStyleModel",
          "model_module_version": "1.5.0",
          "state": {
            "_model_module": "@jupyter-widgets/controls",
            "_model_module_version": "1.5.0",
            "_model_name": "ProgressStyleModel",
            "_view_count": null,
            "_view_module": "@jupyter-widgets/base",
            "_view_module_version": "1.2.0",
            "_view_name": "StyleView",
            "bar_color": null,
            "description_width": ""
          }
        },
        "04f2f3a263374786bf4af1139dc7afd7": {
          "model_module": "@jupyter-widgets/base",
          "model_name": "LayoutModel",
          "model_module_version": "1.2.0",
          "state": {
            "_model_module": "@jupyter-widgets/base",
            "_model_module_version": "1.2.0",
            "_model_name": "LayoutModel",
            "_view_count": null,
            "_view_module": "@jupyter-widgets/base",
            "_view_module_version": "1.2.0",
            "_view_name": "LayoutView",
            "align_content": null,
            "align_items": null,
            "align_self": null,
            "border": null,
            "bottom": null,
            "display": null,
            "flex": null,
            "flex_flow": null,
            "grid_area": null,
            "grid_auto_columns": null,
            "grid_auto_flow": null,
            "grid_auto_rows": null,
            "grid_column": null,
            "grid_gap": null,
            "grid_row": null,
            "grid_template_areas": null,
            "grid_template_columns": null,
            "grid_template_rows": null,
            "height": null,
            "justify_content": null,
            "justify_items": null,
            "left": null,
            "margin": null,
            "max_height": null,
            "max_width": null,
            "min_height": null,
            "min_width": null,
            "object_fit": null,
            "object_position": null,
            "order": null,
            "overflow": null,
            "overflow_x": null,
            "overflow_y": null,
            "padding": null,
            "right": null,
            "top": null,
            "visibility": null,
            "width": null
          }
        },
        "92f03bfdcb184ab680ce1eb5fc99f88d": {
          "model_module": "@jupyter-widgets/controls",
          "model_name": "DescriptionStyleModel",
          "model_module_version": "1.5.0",
          "state": {
            "_model_module": "@jupyter-widgets/controls",
            "_model_module_version": "1.5.0",
            "_model_name": "DescriptionStyleModel",
            "_view_count": null,
            "_view_module": "@jupyter-widgets/base",
            "_view_module_version": "1.2.0",
            "_view_name": "StyleView",
            "description_width": ""
          }
        },
        "5c99d48626fa4b4ba8aa964a222cc3c4": {
          "model_module": "@jupyter-widgets/controls",
          "model_name": "HBoxModel",
          "model_module_version": "1.5.0",
          "state": {
            "_dom_classes": [],
            "_model_module": "@jupyter-widgets/controls",
            "_model_module_version": "1.5.0",
            "_model_name": "HBoxModel",
            "_view_count": null,
            "_view_module": "@jupyter-widgets/controls",
            "_view_module_version": "1.5.0",
            "_view_name": "HBoxView",
            "box_style": "",
            "children": [
              "IPY_MODEL_5c08653b370f4e1d8787cc61048bdb82",
              "IPY_MODEL_59314f643c084741b169af6b32399f60",
              "IPY_MODEL_0060ad49224e4d8eb0c02dd0bbcf66bc"
            ],
            "layout": "IPY_MODEL_e6660d708b364201bc755c00e73c32c0"
          }
        },
        "5c08653b370f4e1d8787cc61048bdb82": {
          "model_module": "@jupyter-widgets/controls",
          "model_name": "HTMLModel",
          "model_module_version": "1.5.0",
          "state": {
            "_dom_classes": [],
            "_model_module": "@jupyter-widgets/controls",
            "_model_module_version": "1.5.0",
            "_model_name": "HTMLModel",
            "_view_count": null,
            "_view_module": "@jupyter-widgets/controls",
            "_view_module_version": "1.5.0",
            "_view_name": "HTMLView",
            "description": "",
            "description_tooltip": null,
            "layout": "IPY_MODEL_2c18e6a7ff6144d8b9ce2ea251fa0af0",
            "placeholder": "​",
            "style": "IPY_MODEL_bb5bb92caa9f4cf4b8a3f5de8b149820",
            "value": "tokenizer.json: 100%"
          }
        },
        "59314f643c084741b169af6b32399f60": {
          "model_module": "@jupyter-widgets/controls",
          "model_name": "FloatProgressModel",
          "model_module_version": "1.5.0",
          "state": {
            "_dom_classes": [],
            "_model_module": "@jupyter-widgets/controls",
            "_model_module_version": "1.5.0",
            "_model_name": "FloatProgressModel",
            "_view_count": null,
            "_view_module": "@jupyter-widgets/controls",
            "_view_module_version": "1.5.0",
            "_view_name": "ProgressView",
            "bar_style": "success",
            "description": "",
            "description_tooltip": null,
            "layout": "IPY_MODEL_bd26017a49b845dc9ac944ce810a452e",
            "max": 466062,
            "min": 0,
            "orientation": "horizontal",
            "style": "IPY_MODEL_83b7d255734043d187ef1c2c4b0d2286",
            "value": 466062
          }
        },
        "0060ad49224e4d8eb0c02dd0bbcf66bc": {
          "model_module": "@jupyter-widgets/controls",
          "model_name": "HTMLModel",
          "model_module_version": "1.5.0",
          "state": {
            "_dom_classes": [],
            "_model_module": "@jupyter-widgets/controls",
            "_model_module_version": "1.5.0",
            "_model_name": "HTMLModel",
            "_view_count": null,
            "_view_module": "@jupyter-widgets/controls",
            "_view_module_version": "1.5.0",
            "_view_name": "HTMLView",
            "description": "",
            "description_tooltip": null,
            "layout": "IPY_MODEL_ce8b5baac4ea461ab74c701fcd82a203",
            "placeholder": "​",
            "style": "IPY_MODEL_2a7fd91905dd4069a337822dfd4f056f",
            "value": " 466k/466k [00:00&lt;00:00, 2.77MB/s]"
          }
        },
        "e6660d708b364201bc755c00e73c32c0": {
          "model_module": "@jupyter-widgets/base",
          "model_name": "LayoutModel",
          "model_module_version": "1.2.0",
          "state": {
            "_model_module": "@jupyter-widgets/base",
            "_model_module_version": "1.2.0",
            "_model_name": "LayoutModel",
            "_view_count": null,
            "_view_module": "@jupyter-widgets/base",
            "_view_module_version": "1.2.0",
            "_view_name": "LayoutView",
            "align_content": null,
            "align_items": null,
            "align_self": null,
            "border": null,
            "bottom": null,
            "display": null,
            "flex": null,
            "flex_flow": null,
            "grid_area": null,
            "grid_auto_columns": null,
            "grid_auto_flow": null,
            "grid_auto_rows": null,
            "grid_column": null,
            "grid_gap": null,
            "grid_row": null,
            "grid_template_areas": null,
            "grid_template_columns": null,
            "grid_template_rows": null,
            "height": null,
            "justify_content": null,
            "justify_items": null,
            "left": null,
            "margin": null,
            "max_height": null,
            "max_width": null,
            "min_height": null,
            "min_width": null,
            "object_fit": null,
            "object_position": null,
            "order": null,
            "overflow": null,
            "overflow_x": null,
            "overflow_y": null,
            "padding": null,
            "right": null,
            "top": null,
            "visibility": null,
            "width": null
          }
        },
        "2c18e6a7ff6144d8b9ce2ea251fa0af0": {
          "model_module": "@jupyter-widgets/base",
          "model_name": "LayoutModel",
          "model_module_version": "1.2.0",
          "state": {
            "_model_module": "@jupyter-widgets/base",
            "_model_module_version": "1.2.0",
            "_model_name": "LayoutModel",
            "_view_count": null,
            "_view_module": "@jupyter-widgets/base",
            "_view_module_version": "1.2.0",
            "_view_name": "LayoutView",
            "align_content": null,
            "align_items": null,
            "align_self": null,
            "border": null,
            "bottom": null,
            "display": null,
            "flex": null,
            "flex_flow": null,
            "grid_area": null,
            "grid_auto_columns": null,
            "grid_auto_flow": null,
            "grid_auto_rows": null,
            "grid_column": null,
            "grid_gap": null,
            "grid_row": null,
            "grid_template_areas": null,
            "grid_template_columns": null,
            "grid_template_rows": null,
            "height": null,
            "justify_content": null,
            "justify_items": null,
            "left": null,
            "margin": null,
            "max_height": null,
            "max_width": null,
            "min_height": null,
            "min_width": null,
            "object_fit": null,
            "object_position": null,
            "order": null,
            "overflow": null,
            "overflow_x": null,
            "overflow_y": null,
            "padding": null,
            "right": null,
            "top": null,
            "visibility": null,
            "width": null
          }
        },
        "bb5bb92caa9f4cf4b8a3f5de8b149820": {
          "model_module": "@jupyter-widgets/controls",
          "model_name": "DescriptionStyleModel",
          "model_module_version": "1.5.0",
          "state": {
            "_model_module": "@jupyter-widgets/controls",
            "_model_module_version": "1.5.0",
            "_model_name": "DescriptionStyleModel",
            "_view_count": null,
            "_view_module": "@jupyter-widgets/base",
            "_view_module_version": "1.2.0",
            "_view_name": "StyleView",
            "description_width": ""
          }
        },
        "bd26017a49b845dc9ac944ce810a452e": {
          "model_module": "@jupyter-widgets/base",
          "model_name": "LayoutModel",
          "model_module_version": "1.2.0",
          "state": {
            "_model_module": "@jupyter-widgets/base",
            "_model_module_version": "1.2.0",
            "_model_name": "LayoutModel",
            "_view_count": null,
            "_view_module": "@jupyter-widgets/base",
            "_view_module_version": "1.2.0",
            "_view_name": "LayoutView",
            "align_content": null,
            "align_items": null,
            "align_self": null,
            "border": null,
            "bottom": null,
            "display": null,
            "flex": null,
            "flex_flow": null,
            "grid_area": null,
            "grid_auto_columns": null,
            "grid_auto_flow": null,
            "grid_auto_rows": null,
            "grid_column": null,
            "grid_gap": null,
            "grid_row": null,
            "grid_template_areas": null,
            "grid_template_columns": null,
            "grid_template_rows": null,
            "height": null,
            "justify_content": null,
            "justify_items": null,
            "left": null,
            "margin": null,
            "max_height": null,
            "max_width": null,
            "min_height": null,
            "min_width": null,
            "object_fit": null,
            "object_position": null,
            "order": null,
            "overflow": null,
            "overflow_x": null,
            "overflow_y": null,
            "padding": null,
            "right": null,
            "top": null,
            "visibility": null,
            "width": null
          }
        },
        "83b7d255734043d187ef1c2c4b0d2286": {
          "model_module": "@jupyter-widgets/controls",
          "model_name": "ProgressStyleModel",
          "model_module_version": "1.5.0",
          "state": {
            "_model_module": "@jupyter-widgets/controls",
            "_model_module_version": "1.5.0",
            "_model_name": "ProgressStyleModel",
            "_view_count": null,
            "_view_module": "@jupyter-widgets/base",
            "_view_module_version": "1.2.0",
            "_view_name": "StyleView",
            "bar_color": null,
            "description_width": ""
          }
        },
        "ce8b5baac4ea461ab74c701fcd82a203": {
          "model_module": "@jupyter-widgets/base",
          "model_name": "LayoutModel",
          "model_module_version": "1.2.0",
          "state": {
            "_model_module": "@jupyter-widgets/base",
            "_model_module_version": "1.2.0",
            "_model_name": "LayoutModel",
            "_view_count": null,
            "_view_module": "@jupyter-widgets/base",
            "_view_module_version": "1.2.0",
            "_view_name": "LayoutView",
            "align_content": null,
            "align_items": null,
            "align_self": null,
            "border": null,
            "bottom": null,
            "display": null,
            "flex": null,
            "flex_flow": null,
            "grid_area": null,
            "grid_auto_columns": null,
            "grid_auto_flow": null,
            "grid_auto_rows": null,
            "grid_column": null,
            "grid_gap": null,
            "grid_row": null,
            "grid_template_areas": null,
            "grid_template_columns": null,
            "grid_template_rows": null,
            "height": null,
            "justify_content": null,
            "justify_items": null,
            "left": null,
            "margin": null,
            "max_height": null,
            "max_width": null,
            "min_height": null,
            "min_width": null,
            "object_fit": null,
            "object_position": null,
            "order": null,
            "overflow": null,
            "overflow_x": null,
            "overflow_y": null,
            "padding": null,
            "right": null,
            "top": null,
            "visibility": null,
            "width": null
          }
        },
        "2a7fd91905dd4069a337822dfd4f056f": {
          "model_module": "@jupyter-widgets/controls",
          "model_name": "DescriptionStyleModel",
          "model_module_version": "1.5.0",
          "state": {
            "_model_module": "@jupyter-widgets/controls",
            "_model_module_version": "1.5.0",
            "_model_name": "DescriptionStyleModel",
            "_view_count": null,
            "_view_module": "@jupyter-widgets/base",
            "_view_module_version": "1.2.0",
            "_view_name": "StyleView",
            "description_width": ""
          }
        },
        "30e2e3326c594faaa9ee2b2faad277dc": {
          "model_module": "@jupyter-widgets/controls",
          "model_name": "HBoxModel",
          "model_module_version": "1.5.0",
          "state": {
            "_dom_classes": [],
            "_model_module": "@jupyter-widgets/controls",
            "_model_module_version": "1.5.0",
            "_model_name": "HBoxModel",
            "_view_count": null,
            "_view_module": "@jupyter-widgets/controls",
            "_view_module_version": "1.5.0",
            "_view_name": "HBoxView",
            "box_style": "",
            "children": [
              "IPY_MODEL_0aac535ca5cd4e398c58118678a6223f",
              "IPY_MODEL_bc50ebe9fb504ebd9464b69886a72821",
              "IPY_MODEL_85bf9141f0144e81ae27c1c6afb57f10"
            ],
            "layout": "IPY_MODEL_0c07a62798e148b8b8397fad27e333be"
          }
        },
        "0aac535ca5cd4e398c58118678a6223f": {
          "model_module": "@jupyter-widgets/controls",
          "model_name": "HTMLModel",
          "model_module_version": "1.5.0",
          "state": {
            "_dom_classes": [],
            "_model_module": "@jupyter-widgets/controls",
            "_model_module_version": "1.5.0",
            "_model_name": "HTMLModel",
            "_view_count": null,
            "_view_module": "@jupyter-widgets/controls",
            "_view_module_version": "1.5.0",
            "_view_name": "HTMLView",
            "description": "",
            "description_tooltip": null,
            "layout": "IPY_MODEL_b9643468a4884174b33a0e4f59e31e7e",
            "placeholder": "​",
            "style": "IPY_MODEL_942830752a344e6ca0faef1f349314c8",
            "value": "config.json: 100%"
          }
        },
        "bc50ebe9fb504ebd9464b69886a72821": {
          "model_module": "@jupyter-widgets/controls",
          "model_name": "FloatProgressModel",
          "model_module_version": "1.5.0",
          "state": {
            "_dom_classes": [],
            "_model_module": "@jupyter-widgets/controls",
            "_model_module_version": "1.5.0",
            "_model_name": "FloatProgressModel",
            "_view_count": null,
            "_view_module": "@jupyter-widgets/controls",
            "_view_module_version": "1.5.0",
            "_view_name": "ProgressView",
            "bar_style": "success",
            "description": "",
            "description_tooltip": null,
            "layout": "IPY_MODEL_10b6716e78184c85a591d7d9c72e7c3e",
            "max": 570,
            "min": 0,
            "orientation": "horizontal",
            "style": "IPY_MODEL_a6074c07c7104a6fa9ba9f3b6b626f07",
            "value": 570
          }
        },
        "85bf9141f0144e81ae27c1c6afb57f10": {
          "model_module": "@jupyter-widgets/controls",
          "model_name": "HTMLModel",
          "model_module_version": "1.5.0",
          "state": {
            "_dom_classes": [],
            "_model_module": "@jupyter-widgets/controls",
            "_model_module_version": "1.5.0",
            "_model_name": "HTMLModel",
            "_view_count": null,
            "_view_module": "@jupyter-widgets/controls",
            "_view_module_version": "1.5.0",
            "_view_name": "HTMLView",
            "description": "",
            "description_tooltip": null,
            "layout": "IPY_MODEL_fd3b7a631dfd48f59d5d1fc8c2cb2e1b",
            "placeholder": "​",
            "style": "IPY_MODEL_87aa273ca4e34c7190db6592fa72bd74",
            "value": " 570/570 [00:00&lt;00:00, 24.9kB/s]"
          }
        },
        "0c07a62798e148b8b8397fad27e333be": {
          "model_module": "@jupyter-widgets/base",
          "model_name": "LayoutModel",
          "model_module_version": "1.2.0",
          "state": {
            "_model_module": "@jupyter-widgets/base",
            "_model_module_version": "1.2.0",
            "_model_name": "LayoutModel",
            "_view_count": null,
            "_view_module": "@jupyter-widgets/base",
            "_view_module_version": "1.2.0",
            "_view_name": "LayoutView",
            "align_content": null,
            "align_items": null,
            "align_self": null,
            "border": null,
            "bottom": null,
            "display": null,
            "flex": null,
            "flex_flow": null,
            "grid_area": null,
            "grid_auto_columns": null,
            "grid_auto_flow": null,
            "grid_auto_rows": null,
            "grid_column": null,
            "grid_gap": null,
            "grid_row": null,
            "grid_template_areas": null,
            "grid_template_columns": null,
            "grid_template_rows": null,
            "height": null,
            "justify_content": null,
            "justify_items": null,
            "left": null,
            "margin": null,
            "max_height": null,
            "max_width": null,
            "min_height": null,
            "min_width": null,
            "object_fit": null,
            "object_position": null,
            "order": null,
            "overflow": null,
            "overflow_x": null,
            "overflow_y": null,
            "padding": null,
            "right": null,
            "top": null,
            "visibility": null,
            "width": null
          }
        },
        "b9643468a4884174b33a0e4f59e31e7e": {
          "model_module": "@jupyter-widgets/base",
          "model_name": "LayoutModel",
          "model_module_version": "1.2.0",
          "state": {
            "_model_module": "@jupyter-widgets/base",
            "_model_module_version": "1.2.0",
            "_model_name": "LayoutModel",
            "_view_count": null,
            "_view_module": "@jupyter-widgets/base",
            "_view_module_version": "1.2.0",
            "_view_name": "LayoutView",
            "align_content": null,
            "align_items": null,
            "align_self": null,
            "border": null,
            "bottom": null,
            "display": null,
            "flex": null,
            "flex_flow": null,
            "grid_area": null,
            "grid_auto_columns": null,
            "grid_auto_flow": null,
            "grid_auto_rows": null,
            "grid_column": null,
            "grid_gap": null,
            "grid_row": null,
            "grid_template_areas": null,
            "grid_template_columns": null,
            "grid_template_rows": null,
            "height": null,
            "justify_content": null,
            "justify_items": null,
            "left": null,
            "margin": null,
            "max_height": null,
            "max_width": null,
            "min_height": null,
            "min_width": null,
            "object_fit": null,
            "object_position": null,
            "order": null,
            "overflow": null,
            "overflow_x": null,
            "overflow_y": null,
            "padding": null,
            "right": null,
            "top": null,
            "visibility": null,
            "width": null
          }
        },
        "942830752a344e6ca0faef1f349314c8": {
          "model_module": "@jupyter-widgets/controls",
          "model_name": "DescriptionStyleModel",
          "model_module_version": "1.5.0",
          "state": {
            "_model_module": "@jupyter-widgets/controls",
            "_model_module_version": "1.5.0",
            "_model_name": "DescriptionStyleModel",
            "_view_count": null,
            "_view_module": "@jupyter-widgets/base",
            "_view_module_version": "1.2.0",
            "_view_name": "StyleView",
            "description_width": ""
          }
        },
        "10b6716e78184c85a591d7d9c72e7c3e": {
          "model_module": "@jupyter-widgets/base",
          "model_name": "LayoutModel",
          "model_module_version": "1.2.0",
          "state": {
            "_model_module": "@jupyter-widgets/base",
            "_model_module_version": "1.2.0",
            "_model_name": "LayoutModel",
            "_view_count": null,
            "_view_module": "@jupyter-widgets/base",
            "_view_module_version": "1.2.0",
            "_view_name": "LayoutView",
            "align_content": null,
            "align_items": null,
            "align_self": null,
            "border": null,
            "bottom": null,
            "display": null,
            "flex": null,
            "flex_flow": null,
            "grid_area": null,
            "grid_auto_columns": null,
            "grid_auto_flow": null,
            "grid_auto_rows": null,
            "grid_column": null,
            "grid_gap": null,
            "grid_row": null,
            "grid_template_areas": null,
            "grid_template_columns": null,
            "grid_template_rows": null,
            "height": null,
            "justify_content": null,
            "justify_items": null,
            "left": null,
            "margin": null,
            "max_height": null,
            "max_width": null,
            "min_height": null,
            "min_width": null,
            "object_fit": null,
            "object_position": null,
            "order": null,
            "overflow": null,
            "overflow_x": null,
            "overflow_y": null,
            "padding": null,
            "right": null,
            "top": null,
            "visibility": null,
            "width": null
          }
        },
        "a6074c07c7104a6fa9ba9f3b6b626f07": {
          "model_module": "@jupyter-widgets/controls",
          "model_name": "ProgressStyleModel",
          "model_module_version": "1.5.0",
          "state": {
            "_model_module": "@jupyter-widgets/controls",
            "_model_module_version": "1.5.0",
            "_model_name": "ProgressStyleModel",
            "_view_count": null,
            "_view_module": "@jupyter-widgets/base",
            "_view_module_version": "1.2.0",
            "_view_name": "StyleView",
            "bar_color": null,
            "description_width": ""
          }
        },
        "fd3b7a631dfd48f59d5d1fc8c2cb2e1b": {
          "model_module": "@jupyter-widgets/base",
          "model_name": "LayoutModel",
          "model_module_version": "1.2.0",
          "state": {
            "_model_module": "@jupyter-widgets/base",
            "_model_module_version": "1.2.0",
            "_model_name": "LayoutModel",
            "_view_count": null,
            "_view_module": "@jupyter-widgets/base",
            "_view_module_version": "1.2.0",
            "_view_name": "LayoutView",
            "align_content": null,
            "align_items": null,
            "align_self": null,
            "border": null,
            "bottom": null,
            "display": null,
            "flex": null,
            "flex_flow": null,
            "grid_area": null,
            "grid_auto_columns": null,
            "grid_auto_flow": null,
            "grid_auto_rows": null,
            "grid_column": null,
            "grid_gap": null,
            "grid_row": null,
            "grid_template_areas": null,
            "grid_template_columns": null,
            "grid_template_rows": null,
            "height": null,
            "justify_content": null,
            "justify_items": null,
            "left": null,
            "margin": null,
            "max_height": null,
            "max_width": null,
            "min_height": null,
            "min_width": null,
            "object_fit": null,
            "object_position": null,
            "order": null,
            "overflow": null,
            "overflow_x": null,
            "overflow_y": null,
            "padding": null,
            "right": null,
            "top": null,
            "visibility": null,
            "width": null
          }
        },
        "87aa273ca4e34c7190db6592fa72bd74": {
          "model_module": "@jupyter-widgets/controls",
          "model_name": "DescriptionStyleModel",
          "model_module_version": "1.5.0",
          "state": {
            "_model_module": "@jupyter-widgets/controls",
            "_model_module_version": "1.5.0",
            "_model_name": "DescriptionStyleModel",
            "_view_count": null,
            "_view_module": "@jupyter-widgets/base",
            "_view_module_version": "1.2.0",
            "_view_name": "StyleView",
            "description_width": ""
          }
        },
        "bc39b07290514edea8cebe481099fab2": {
          "model_module": "@jupyter-widgets/controls",
          "model_name": "HBoxModel",
          "model_module_version": "1.5.0",
          "state": {
            "_dom_classes": [],
            "_model_module": "@jupyter-widgets/controls",
            "_model_module_version": "1.5.0",
            "_model_name": "HBoxModel",
            "_view_count": null,
            "_view_module": "@jupyter-widgets/controls",
            "_view_module_version": "1.5.0",
            "_view_name": "HBoxView",
            "box_style": "",
            "children": [
              "IPY_MODEL_6e41385481b64746b9c59506b55c7f23",
              "IPY_MODEL_2c69257a1e314db9bebc2de49101c88f",
              "IPY_MODEL_ef105479c55b49729bc609fdf71a5b3e"
            ],
            "layout": "IPY_MODEL_70184281440548dabc22ea9ea46679ac"
          }
        },
        "6e41385481b64746b9c59506b55c7f23": {
          "model_module": "@jupyter-widgets/controls",
          "model_name": "HTMLModel",
          "model_module_version": "1.5.0",
          "state": {
            "_dom_classes": [],
            "_model_module": "@jupyter-widgets/controls",
            "_model_module_version": "1.5.0",
            "_model_name": "HTMLModel",
            "_view_count": null,
            "_view_module": "@jupyter-widgets/controls",
            "_view_module_version": "1.5.0",
            "_view_name": "HTMLView",
            "description": "",
            "description_tooltip": null,
            "layout": "IPY_MODEL_75c9c9cd85804a5793a0e229c536ec44",
            "placeholder": "​",
            "style": "IPY_MODEL_949dc78faaf84b178e93924502aa7d72",
            "value": "model.safetensors: 100%"
          }
        },
        "2c69257a1e314db9bebc2de49101c88f": {
          "model_module": "@jupyter-widgets/controls",
          "model_name": "FloatProgressModel",
          "model_module_version": "1.5.0",
          "state": {
            "_dom_classes": [],
            "_model_module": "@jupyter-widgets/controls",
            "_model_module_version": "1.5.0",
            "_model_name": "FloatProgressModel",
            "_view_count": null,
            "_view_module": "@jupyter-widgets/controls",
            "_view_module_version": "1.5.0",
            "_view_name": "ProgressView",
            "bar_style": "success",
            "description": "",
            "description_tooltip": null,
            "layout": "IPY_MODEL_2df88763d75c45598937bb982fb92779",
            "max": 440449768,
            "min": 0,
            "orientation": "horizontal",
            "style": "IPY_MODEL_fa458f57226b475c8dbad639552aa1cd",
            "value": 440449768
          }
        },
        "ef105479c55b49729bc609fdf71a5b3e": {
          "model_module": "@jupyter-widgets/controls",
          "model_name": "HTMLModel",
          "model_module_version": "1.5.0",
          "state": {
            "_dom_classes": [],
            "_model_module": "@jupyter-widgets/controls",
            "_model_module_version": "1.5.0",
            "_model_name": "HTMLModel",
            "_view_count": null,
            "_view_module": "@jupyter-widgets/controls",
            "_view_module_version": "1.5.0",
            "_view_name": "HTMLView",
            "description": "",
            "description_tooltip": null,
            "layout": "IPY_MODEL_f16ea9795d3143b1bfe01de4d361232e",
            "placeholder": "​",
            "style": "IPY_MODEL_755806ac4a3241738a736fb1cbfe38d6",
            "value": " 440M/440M [00:01&lt;00:00, 281MB/s]"
          }
        },
        "70184281440548dabc22ea9ea46679ac": {
          "model_module": "@jupyter-widgets/base",
          "model_name": "LayoutModel",
          "model_module_version": "1.2.0",
          "state": {
            "_model_module": "@jupyter-widgets/base",
            "_model_module_version": "1.2.0",
            "_model_name": "LayoutModel",
            "_view_count": null,
            "_view_module": "@jupyter-widgets/base",
            "_view_module_version": "1.2.0",
            "_view_name": "LayoutView",
            "align_content": null,
            "align_items": null,
            "align_self": null,
            "border": null,
            "bottom": null,
            "display": null,
            "flex": null,
            "flex_flow": null,
            "grid_area": null,
            "grid_auto_columns": null,
            "grid_auto_flow": null,
            "grid_auto_rows": null,
            "grid_column": null,
            "grid_gap": null,
            "grid_row": null,
            "grid_template_areas": null,
            "grid_template_columns": null,
            "grid_template_rows": null,
            "height": null,
            "justify_content": null,
            "justify_items": null,
            "left": null,
            "margin": null,
            "max_height": null,
            "max_width": null,
            "min_height": null,
            "min_width": null,
            "object_fit": null,
            "object_position": null,
            "order": null,
            "overflow": null,
            "overflow_x": null,
            "overflow_y": null,
            "padding": null,
            "right": null,
            "top": null,
            "visibility": null,
            "width": null
          }
        },
        "75c9c9cd85804a5793a0e229c536ec44": {
          "model_module": "@jupyter-widgets/base",
          "model_name": "LayoutModel",
          "model_module_version": "1.2.0",
          "state": {
            "_model_module": "@jupyter-widgets/base",
            "_model_module_version": "1.2.0",
            "_model_name": "LayoutModel",
            "_view_count": null,
            "_view_module": "@jupyter-widgets/base",
            "_view_module_version": "1.2.0",
            "_view_name": "LayoutView",
            "align_content": null,
            "align_items": null,
            "align_self": null,
            "border": null,
            "bottom": null,
            "display": null,
            "flex": null,
            "flex_flow": null,
            "grid_area": null,
            "grid_auto_columns": null,
            "grid_auto_flow": null,
            "grid_auto_rows": null,
            "grid_column": null,
            "grid_gap": null,
            "grid_row": null,
            "grid_template_areas": null,
            "grid_template_columns": null,
            "grid_template_rows": null,
            "height": null,
            "justify_content": null,
            "justify_items": null,
            "left": null,
            "margin": null,
            "max_height": null,
            "max_width": null,
            "min_height": null,
            "min_width": null,
            "object_fit": null,
            "object_position": null,
            "order": null,
            "overflow": null,
            "overflow_x": null,
            "overflow_y": null,
            "padding": null,
            "right": null,
            "top": null,
            "visibility": null,
            "width": null
          }
        },
        "949dc78faaf84b178e93924502aa7d72": {
          "model_module": "@jupyter-widgets/controls",
          "model_name": "DescriptionStyleModel",
          "model_module_version": "1.5.0",
          "state": {
            "_model_module": "@jupyter-widgets/controls",
            "_model_module_version": "1.5.0",
            "_model_name": "DescriptionStyleModel",
            "_view_count": null,
            "_view_module": "@jupyter-widgets/base",
            "_view_module_version": "1.2.0",
            "_view_name": "StyleView",
            "description_width": ""
          }
        },
        "2df88763d75c45598937bb982fb92779": {
          "model_module": "@jupyter-widgets/base",
          "model_name": "LayoutModel",
          "model_module_version": "1.2.0",
          "state": {
            "_model_module": "@jupyter-widgets/base",
            "_model_module_version": "1.2.0",
            "_model_name": "LayoutModel",
            "_view_count": null,
            "_view_module": "@jupyter-widgets/base",
            "_view_module_version": "1.2.0",
            "_view_name": "LayoutView",
            "align_content": null,
            "align_items": null,
            "align_self": null,
            "border": null,
            "bottom": null,
            "display": null,
            "flex": null,
            "flex_flow": null,
            "grid_area": null,
            "grid_auto_columns": null,
            "grid_auto_flow": null,
            "grid_auto_rows": null,
            "grid_column": null,
            "grid_gap": null,
            "grid_row": null,
            "grid_template_areas": null,
            "grid_template_columns": null,
            "grid_template_rows": null,
            "height": null,
            "justify_content": null,
            "justify_items": null,
            "left": null,
            "margin": null,
            "max_height": null,
            "max_width": null,
            "min_height": null,
            "min_width": null,
            "object_fit": null,
            "object_position": null,
            "order": null,
            "overflow": null,
            "overflow_x": null,
            "overflow_y": null,
            "padding": null,
            "right": null,
            "top": null,
            "visibility": null,
            "width": null
          }
        },
        "fa458f57226b475c8dbad639552aa1cd": {
          "model_module": "@jupyter-widgets/controls",
          "model_name": "ProgressStyleModel",
          "model_module_version": "1.5.0",
          "state": {
            "_model_module": "@jupyter-widgets/controls",
            "_model_module_version": "1.5.0",
            "_model_name": "ProgressStyleModel",
            "_view_count": null,
            "_view_module": "@jupyter-widgets/base",
            "_view_module_version": "1.2.0",
            "_view_name": "StyleView",
            "bar_color": null,
            "description_width": ""
          }
        },
        "f16ea9795d3143b1bfe01de4d361232e": {
          "model_module": "@jupyter-widgets/base",
          "model_name": "LayoutModel",
          "model_module_version": "1.2.0",
          "state": {
            "_model_module": "@jupyter-widgets/base",
            "_model_module_version": "1.2.0",
            "_model_name": "LayoutModel",
            "_view_count": null,
            "_view_module": "@jupyter-widgets/base",
            "_view_module_version": "1.2.0",
            "_view_name": "LayoutView",
            "align_content": null,
            "align_items": null,
            "align_self": null,
            "border": null,
            "bottom": null,
            "display": null,
            "flex": null,
            "flex_flow": null,
            "grid_area": null,
            "grid_auto_columns": null,
            "grid_auto_flow": null,
            "grid_auto_rows": null,
            "grid_column": null,
            "grid_gap": null,
            "grid_row": null,
            "grid_template_areas": null,
            "grid_template_columns": null,
            "grid_template_rows": null,
            "height": null,
            "justify_content": null,
            "justify_items": null,
            "left": null,
            "margin": null,
            "max_height": null,
            "max_width": null,
            "min_height": null,
            "min_width": null,
            "object_fit": null,
            "object_position": null,
            "order": null,
            "overflow": null,
            "overflow_x": null,
            "overflow_y": null,
            "padding": null,
            "right": null,
            "top": null,
            "visibility": null,
            "width": null
          }
        },
        "755806ac4a3241738a736fb1cbfe38d6": {
          "model_module": "@jupyter-widgets/controls",
          "model_name": "DescriptionStyleModel",
          "model_module_version": "1.5.0",
          "state": {
            "_model_module": "@jupyter-widgets/controls",
            "_model_module_version": "1.5.0",
            "_model_name": "DescriptionStyleModel",
            "_view_count": null,
            "_view_module": "@jupyter-widgets/base",
            "_view_module_version": "1.2.0",
            "_view_name": "StyleView",
            "description_width": ""
          }
        }
      }
    }
  },
  "nbformat": 4,
  "nbformat_minor": 0
}